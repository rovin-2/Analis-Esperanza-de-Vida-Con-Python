{
 "cells": [
  {
   "cell_type": "markdown",
   "id": "f2b20eb1-204c-4609-b51b-038b7446ce23",
   "metadata": {},
   "source": [
    "## Impotamos las librerias necesarias"
   ]
  },
  {
   "cell_type": "code",
   "execution_count": 1,
   "id": "2991a6df-9655-4da4-ba11-706e39d1a162",
   "metadata": {},
   "outputs": [],
   "source": [
    "import pandas as pd\n",
    "import numpy as np\n",
    "import matplotlib.pyplot as plt\n",
    "import seaborn as sns\n",
    "import plotly.express as px"
   ]
  },
  {
   "cell_type": "code",
   "execution_count": 2,
   "id": "3c07b5ee-b56f-4ca3-9b84-006b6555abe8",
   "metadata": {},
   "outputs": [],
   "source": [
    "from scipy.stats.mstats import winsorize\n",
    "from sklearn.preprocessing import StandardScaler\n",
    "from sklearn.decomposition import PCA\n",
    "from sklearn.cluster import KMeans\n",
    "from sklearn.model_selection import train_test_split\n",
    "from sklearn.linear_model import LinearRegression"
   ]
  },
  {
   "cell_type": "markdown",
   "id": "94298008-2005-4bcd-b6b9-3b9d2d6da440",
   "metadata": {},
   "source": [
    "## Cargamos el conjunto de datos a analizar"
   ]
  },
  {
   "cell_type": "code",
   "execution_count": 3,
   "id": "82fbb7ed-e4b9-4f7d-8eeb-a9776509065c",
   "metadata": {},
   "outputs": [],
   "source": [
    "life_expectancy = pd.read_csv('Life Expectancy Data.csv')"
   ]
  },
  {
   "cell_type": "code",
   "execution_count": null,
   "id": "e4b45120-7a34-4584-beb5-3ddfa2a0e9f9",
   "metadata": {},
   "outputs": [],
   "source": []
  }
 ],
 "metadata": {
  "kernelspec": {
   "display_name": "Python 3 (ipykernel)",
   "language": "python",
   "name": "python3"
  },
  "language_info": {
   "codemirror_mode": {
    "name": "ipython",
    "version": 3
   },
   "file_extension": ".py",
   "mimetype": "text/x-python",
   "name": "python",
   "nbconvert_exporter": "python",
   "pygments_lexer": "ipython3",
   "version": "3.9.7"
  }
 },
 "nbformat": 4,
 "nbformat_minor": 5
}
