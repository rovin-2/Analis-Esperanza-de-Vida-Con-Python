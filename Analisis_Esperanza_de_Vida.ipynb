{
 "cells": [
  {
   "cell_type": "markdown",
   "id": "f2b20eb1-204c-4609-b51b-038b7446ce23",
   "metadata": {},
   "source": [
    "## Impotamos las librerias necesarias"
   ]
  },
  {
   "cell_type": "code",
   "execution_count": 20,
   "id": "2991a6df-9655-4da4-ba11-706e39d1a162",
   "metadata": {},
   "outputs": [],
   "source": [
    "import pandas as pd\n",
    "import numpy as np\n",
    "import matplotlib.pyplot as plt\n",
    "import seaborn as sns\n",
    "import plotly.express as px"
   ]
  },
  {
   "cell_type": "code",
   "execution_count": 21,
   "id": "3c07b5ee-b56f-4ca3-9b84-006b6555abe8",
   "metadata": {},
   "outputs": [],
   "source": [
    "from scipy.stats.mstats import winsorize\n",
    "from sklearn.preprocessing import StandardScaler\n",
    "from sklearn.decomposition import PCA\n",
    "from sklearn.cluster import KMeans\n",
    "from sklearn.model_selection import train_test_split\n",
    "from sklearn.linear_model import LinearRegression"
   ]
  },
  {
   "cell_type": "markdown",
   "id": "94298008-2005-4bcd-b6b9-3b9d2d6da440",
   "metadata": {},
   "source": [
    "## Cargamos el conjunto de datos a analizar"
   ]
  },
  {
   "cell_type": "code",
   "execution_count": 22,
   "id": "82fbb7ed-e4b9-4f7d-8eeb-a9776509065c",
   "metadata": {},
   "outputs": [],
   "source": [
    "life_expectancy = pd.read_csv('Life Expectancy Data.csv')"
   ]
  },
  {
   "cell_type": "code",
   "execution_count": 23,
   "id": "e4b45120-7a34-4584-beb5-3ddfa2a0e9f9",
   "metadata": {},
   "outputs": [
    {
     "data": {
      "text/plain": [
       "Index(['Country', 'Year', 'Status', 'Life expectancy ', 'Adult Mortality',\n",
       "       'infant deaths', 'Alcohol', 'percentage expenditure', 'Hepatitis B',\n",
       "       'Measles ', ' BMI ', 'under-five deaths ', 'Polio', 'Total expenditure',\n",
       "       'Diphtheria ', ' HIV/AIDS', 'GDP', 'Population',\n",
       "       ' thinness  1-19 years', ' thinness 5-9 years',\n",
       "       'Income composition of resources', 'Schooling'],\n",
       "      dtype='object')"
      ]
     },
     "execution_count": 23,
     "metadata": {},
     "output_type": "execute_result"
    }
   ],
   "source": [
    "# Mostramos todas las columnas\n",
    "life_expectancy.columns"
   ]
  },
  {
   "cell_type": "code",
   "execution_count": 24,
   "id": "cbc51df4-afda-43b7-86e7-2f70c17fe8f8",
   "metadata": {},
   "outputs": [
    {
     "data": {
      "text/html": [
       "<div>\n",
       "<style scoped>\n",
       "    .dataframe tbody tr th:only-of-type {\n",
       "        vertical-align: middle;\n",
       "    }\n",
       "\n",
       "    .dataframe tbody tr th {\n",
       "        vertical-align: top;\n",
       "    }\n",
       "\n",
       "    .dataframe thead th {\n",
       "        text-align: right;\n",
       "    }\n",
       "</style>\n",
       "<table border=\"1\" class=\"dataframe\">\n",
       "  <thead>\n",
       "    <tr style=\"text-align: right;\">\n",
       "      <th></th>\n",
       "      <th>Country</th>\n",
       "      <th>Year</th>\n",
       "      <th>Status</th>\n",
       "      <th>Life expectancy</th>\n",
       "      <th>Adult Mortality</th>\n",
       "      <th>infant deaths</th>\n",
       "      <th>Alcohol</th>\n",
       "      <th>percentage expenditure</th>\n",
       "      <th>Hepatitis B</th>\n",
       "      <th>Measles</th>\n",
       "      <th>...</th>\n",
       "      <th>Polio</th>\n",
       "      <th>Total expenditure</th>\n",
       "      <th>Diphtheria</th>\n",
       "      <th>HIV/AIDS</th>\n",
       "      <th>GDP</th>\n",
       "      <th>Population</th>\n",
       "      <th>thinness  1-19 years</th>\n",
       "      <th>thinness 5-9 years</th>\n",
       "      <th>Income composition of resources</th>\n",
       "      <th>Schooling</th>\n",
       "    </tr>\n",
       "  </thead>\n",
       "  <tbody>\n",
       "    <tr>\n",
       "      <th>0</th>\n",
       "      <td>Afghanistan</td>\n",
       "      <td>2015</td>\n",
       "      <td>Developing</td>\n",
       "      <td>65.0</td>\n",
       "      <td>263.0</td>\n",
       "      <td>62</td>\n",
       "      <td>0.01</td>\n",
       "      <td>71.279624</td>\n",
       "      <td>65.0</td>\n",
       "      <td>1154</td>\n",
       "      <td>...</td>\n",
       "      <td>6.0</td>\n",
       "      <td>8.16</td>\n",
       "      <td>65.0</td>\n",
       "      <td>0.1</td>\n",
       "      <td>584.259210</td>\n",
       "      <td>33736494.0</td>\n",
       "      <td>17.2</td>\n",
       "      <td>17.3</td>\n",
       "      <td>0.479</td>\n",
       "      <td>10.1</td>\n",
       "    </tr>\n",
       "    <tr>\n",
       "      <th>1</th>\n",
       "      <td>Afghanistan</td>\n",
       "      <td>2014</td>\n",
       "      <td>Developing</td>\n",
       "      <td>59.9</td>\n",
       "      <td>271.0</td>\n",
       "      <td>64</td>\n",
       "      <td>0.01</td>\n",
       "      <td>73.523582</td>\n",
       "      <td>62.0</td>\n",
       "      <td>492</td>\n",
       "      <td>...</td>\n",
       "      <td>58.0</td>\n",
       "      <td>8.18</td>\n",
       "      <td>62.0</td>\n",
       "      <td>0.1</td>\n",
       "      <td>612.696514</td>\n",
       "      <td>327582.0</td>\n",
       "      <td>17.5</td>\n",
       "      <td>17.5</td>\n",
       "      <td>0.476</td>\n",
       "      <td>10.0</td>\n",
       "    </tr>\n",
       "    <tr>\n",
       "      <th>2</th>\n",
       "      <td>Afghanistan</td>\n",
       "      <td>2013</td>\n",
       "      <td>Developing</td>\n",
       "      <td>59.9</td>\n",
       "      <td>268.0</td>\n",
       "      <td>66</td>\n",
       "      <td>0.01</td>\n",
       "      <td>73.219243</td>\n",
       "      <td>64.0</td>\n",
       "      <td>430</td>\n",
       "      <td>...</td>\n",
       "      <td>62.0</td>\n",
       "      <td>8.13</td>\n",
       "      <td>64.0</td>\n",
       "      <td>0.1</td>\n",
       "      <td>631.744976</td>\n",
       "      <td>31731688.0</td>\n",
       "      <td>17.7</td>\n",
       "      <td>17.7</td>\n",
       "      <td>0.470</td>\n",
       "      <td>9.9</td>\n",
       "    </tr>\n",
       "    <tr>\n",
       "      <th>3</th>\n",
       "      <td>Afghanistan</td>\n",
       "      <td>2012</td>\n",
       "      <td>Developing</td>\n",
       "      <td>59.5</td>\n",
       "      <td>272.0</td>\n",
       "      <td>69</td>\n",
       "      <td>0.01</td>\n",
       "      <td>78.184215</td>\n",
       "      <td>67.0</td>\n",
       "      <td>2787</td>\n",
       "      <td>...</td>\n",
       "      <td>67.0</td>\n",
       "      <td>8.52</td>\n",
       "      <td>67.0</td>\n",
       "      <td>0.1</td>\n",
       "      <td>669.959000</td>\n",
       "      <td>3696958.0</td>\n",
       "      <td>17.9</td>\n",
       "      <td>18.0</td>\n",
       "      <td>0.463</td>\n",
       "      <td>9.8</td>\n",
       "    </tr>\n",
       "    <tr>\n",
       "      <th>4</th>\n",
       "      <td>Afghanistan</td>\n",
       "      <td>2011</td>\n",
       "      <td>Developing</td>\n",
       "      <td>59.2</td>\n",
       "      <td>275.0</td>\n",
       "      <td>71</td>\n",
       "      <td>0.01</td>\n",
       "      <td>7.097109</td>\n",
       "      <td>68.0</td>\n",
       "      <td>3013</td>\n",
       "      <td>...</td>\n",
       "      <td>68.0</td>\n",
       "      <td>7.87</td>\n",
       "      <td>68.0</td>\n",
       "      <td>0.1</td>\n",
       "      <td>63.537231</td>\n",
       "      <td>2978599.0</td>\n",
       "      <td>18.2</td>\n",
       "      <td>18.2</td>\n",
       "      <td>0.454</td>\n",
       "      <td>9.5</td>\n",
       "    </tr>\n",
       "  </tbody>\n",
       "</table>\n",
       "<p>5 rows × 22 columns</p>\n",
       "</div>"
      ],
      "text/plain": [
       "       Country  Year      Status  Life expectancy   Adult Mortality  \\\n",
       "0  Afghanistan  2015  Developing              65.0            263.0   \n",
       "1  Afghanistan  2014  Developing              59.9            271.0   \n",
       "2  Afghanistan  2013  Developing              59.9            268.0   \n",
       "3  Afghanistan  2012  Developing              59.5            272.0   \n",
       "4  Afghanistan  2011  Developing              59.2            275.0   \n",
       "\n",
       "   infant deaths  Alcohol  percentage expenditure  Hepatitis B  Measles   ...  \\\n",
       "0             62     0.01               71.279624         65.0      1154  ...   \n",
       "1             64     0.01               73.523582         62.0       492  ...   \n",
       "2             66     0.01               73.219243         64.0       430  ...   \n",
       "3             69     0.01               78.184215         67.0      2787  ...   \n",
       "4             71     0.01                7.097109         68.0      3013  ...   \n",
       "\n",
       "   Polio  Total expenditure  Diphtheria    HIV/AIDS         GDP  Population  \\\n",
       "0    6.0               8.16         65.0        0.1  584.259210  33736494.0   \n",
       "1   58.0               8.18         62.0        0.1  612.696514    327582.0   \n",
       "2   62.0               8.13         64.0        0.1  631.744976  31731688.0   \n",
       "3   67.0               8.52         67.0        0.1  669.959000   3696958.0   \n",
       "4   68.0               7.87         68.0        0.1   63.537231   2978599.0   \n",
       "\n",
       "    thinness  1-19 years   thinness 5-9 years  \\\n",
       "0                   17.2                 17.3   \n",
       "1                   17.5                 17.5   \n",
       "2                   17.7                 17.7   \n",
       "3                   17.9                 18.0   \n",
       "4                   18.2                 18.2   \n",
       "\n",
       "   Income composition of resources  Schooling  \n",
       "0                            0.479       10.1  \n",
       "1                            0.476       10.0  \n",
       "2                            0.470        9.9  \n",
       "3                            0.463        9.8  \n",
       "4                            0.454        9.5  \n",
       "\n",
       "[5 rows x 22 columns]"
      ]
     },
     "execution_count": 24,
     "metadata": {},
     "output_type": "execute_result"
    }
   ],
   "source": [
    "# Mostramos las primeras 5 filas del data\n",
    "life_expectancy.head()"
   ]
  },
  {
   "cell_type": "code",
   "execution_count": 25,
   "id": "ef7063bc-5d93-48bb-9231-3995b0793bf6",
   "metadata": {},
   "outputs": [
    {
     "data": {
      "text/html": [
       "<div>\n",
       "<style scoped>\n",
       "    .dataframe tbody tr th:only-of-type {\n",
       "        vertical-align: middle;\n",
       "    }\n",
       "\n",
       "    .dataframe tbody tr th {\n",
       "        vertical-align: top;\n",
       "    }\n",
       "\n",
       "    .dataframe thead th {\n",
       "        text-align: right;\n",
       "    }\n",
       "</style>\n",
       "<table border=\"1\" class=\"dataframe\">\n",
       "  <thead>\n",
       "    <tr style=\"text-align: right;\">\n",
       "      <th></th>\n",
       "      <th>Year</th>\n",
       "      <th>Life expectancy</th>\n",
       "      <th>Adult Mortality</th>\n",
       "      <th>infant deaths</th>\n",
       "      <th>Alcohol</th>\n",
       "      <th>percentage expenditure</th>\n",
       "      <th>Hepatitis B</th>\n",
       "      <th>Measles</th>\n",
       "      <th>BMI</th>\n",
       "      <th>under-five deaths</th>\n",
       "      <th>Polio</th>\n",
       "      <th>Total expenditure</th>\n",
       "      <th>Diphtheria</th>\n",
       "      <th>HIV/AIDS</th>\n",
       "      <th>GDP</th>\n",
       "      <th>Population</th>\n",
       "      <th>thinness  1-19 years</th>\n",
       "      <th>thinness 5-9 years</th>\n",
       "      <th>Income composition of resources</th>\n",
       "      <th>Schooling</th>\n",
       "    </tr>\n",
       "  </thead>\n",
       "  <tbody>\n",
       "    <tr>\n",
       "      <th>count</th>\n",
       "      <td>2938.000000</td>\n",
       "      <td>2928.000000</td>\n",
       "      <td>2928.000000</td>\n",
       "      <td>2938.000000</td>\n",
       "      <td>2744.000000</td>\n",
       "      <td>2938.000000</td>\n",
       "      <td>2385.000000</td>\n",
       "      <td>2938.000000</td>\n",
       "      <td>2904.000000</td>\n",
       "      <td>2938.000000</td>\n",
       "      <td>2919.000000</td>\n",
       "      <td>2712.00000</td>\n",
       "      <td>2919.000000</td>\n",
       "      <td>2938.000000</td>\n",
       "      <td>2490.000000</td>\n",
       "      <td>2.286000e+03</td>\n",
       "      <td>2904.000000</td>\n",
       "      <td>2904.000000</td>\n",
       "      <td>2771.000000</td>\n",
       "      <td>2775.000000</td>\n",
       "    </tr>\n",
       "    <tr>\n",
       "      <th>mean</th>\n",
       "      <td>2007.518720</td>\n",
       "      <td>69.224932</td>\n",
       "      <td>164.796448</td>\n",
       "      <td>30.303948</td>\n",
       "      <td>4.602861</td>\n",
       "      <td>738.251295</td>\n",
       "      <td>80.940461</td>\n",
       "      <td>2419.592240</td>\n",
       "      <td>38.321247</td>\n",
       "      <td>42.035739</td>\n",
       "      <td>82.550188</td>\n",
       "      <td>5.93819</td>\n",
       "      <td>82.324084</td>\n",
       "      <td>1.742103</td>\n",
       "      <td>7483.158469</td>\n",
       "      <td>1.275338e+07</td>\n",
       "      <td>4.839704</td>\n",
       "      <td>4.870317</td>\n",
       "      <td>0.627551</td>\n",
       "      <td>11.992793</td>\n",
       "    </tr>\n",
       "    <tr>\n",
       "      <th>std</th>\n",
       "      <td>4.613841</td>\n",
       "      <td>9.523867</td>\n",
       "      <td>124.292079</td>\n",
       "      <td>117.926501</td>\n",
       "      <td>4.052413</td>\n",
       "      <td>1987.914858</td>\n",
       "      <td>25.070016</td>\n",
       "      <td>11467.272489</td>\n",
       "      <td>20.044034</td>\n",
       "      <td>160.445548</td>\n",
       "      <td>23.428046</td>\n",
       "      <td>2.49832</td>\n",
       "      <td>23.716912</td>\n",
       "      <td>5.077785</td>\n",
       "      <td>14270.169342</td>\n",
       "      <td>6.101210e+07</td>\n",
       "      <td>4.420195</td>\n",
       "      <td>4.508882</td>\n",
       "      <td>0.210904</td>\n",
       "      <td>3.358920</td>\n",
       "    </tr>\n",
       "    <tr>\n",
       "      <th>min</th>\n",
       "      <td>2000.000000</td>\n",
       "      <td>36.300000</td>\n",
       "      <td>1.000000</td>\n",
       "      <td>0.000000</td>\n",
       "      <td>0.010000</td>\n",
       "      <td>0.000000</td>\n",
       "      <td>1.000000</td>\n",
       "      <td>0.000000</td>\n",
       "      <td>1.000000</td>\n",
       "      <td>0.000000</td>\n",
       "      <td>3.000000</td>\n",
       "      <td>0.37000</td>\n",
       "      <td>2.000000</td>\n",
       "      <td>0.100000</td>\n",
       "      <td>1.681350</td>\n",
       "      <td>3.400000e+01</td>\n",
       "      <td>0.100000</td>\n",
       "      <td>0.100000</td>\n",
       "      <td>0.000000</td>\n",
       "      <td>0.000000</td>\n",
       "    </tr>\n",
       "    <tr>\n",
       "      <th>25%</th>\n",
       "      <td>2004.000000</td>\n",
       "      <td>63.100000</td>\n",
       "      <td>74.000000</td>\n",
       "      <td>0.000000</td>\n",
       "      <td>0.877500</td>\n",
       "      <td>4.685343</td>\n",
       "      <td>77.000000</td>\n",
       "      <td>0.000000</td>\n",
       "      <td>19.300000</td>\n",
       "      <td>0.000000</td>\n",
       "      <td>78.000000</td>\n",
       "      <td>4.26000</td>\n",
       "      <td>78.000000</td>\n",
       "      <td>0.100000</td>\n",
       "      <td>463.935626</td>\n",
       "      <td>1.957932e+05</td>\n",
       "      <td>1.600000</td>\n",
       "      <td>1.500000</td>\n",
       "      <td>0.493000</td>\n",
       "      <td>10.100000</td>\n",
       "    </tr>\n",
       "    <tr>\n",
       "      <th>50%</th>\n",
       "      <td>2008.000000</td>\n",
       "      <td>72.100000</td>\n",
       "      <td>144.000000</td>\n",
       "      <td>3.000000</td>\n",
       "      <td>3.755000</td>\n",
       "      <td>64.912906</td>\n",
       "      <td>92.000000</td>\n",
       "      <td>17.000000</td>\n",
       "      <td>43.500000</td>\n",
       "      <td>4.000000</td>\n",
       "      <td>93.000000</td>\n",
       "      <td>5.75500</td>\n",
       "      <td>93.000000</td>\n",
       "      <td>0.100000</td>\n",
       "      <td>1766.947595</td>\n",
       "      <td>1.386542e+06</td>\n",
       "      <td>3.300000</td>\n",
       "      <td>3.300000</td>\n",
       "      <td>0.677000</td>\n",
       "      <td>12.300000</td>\n",
       "    </tr>\n",
       "    <tr>\n",
       "      <th>75%</th>\n",
       "      <td>2012.000000</td>\n",
       "      <td>75.700000</td>\n",
       "      <td>228.000000</td>\n",
       "      <td>22.000000</td>\n",
       "      <td>7.702500</td>\n",
       "      <td>441.534144</td>\n",
       "      <td>97.000000</td>\n",
       "      <td>360.250000</td>\n",
       "      <td>56.200000</td>\n",
       "      <td>28.000000</td>\n",
       "      <td>97.000000</td>\n",
       "      <td>7.49250</td>\n",
       "      <td>97.000000</td>\n",
       "      <td>0.800000</td>\n",
       "      <td>5910.806335</td>\n",
       "      <td>7.420359e+06</td>\n",
       "      <td>7.200000</td>\n",
       "      <td>7.200000</td>\n",
       "      <td>0.779000</td>\n",
       "      <td>14.300000</td>\n",
       "    </tr>\n",
       "    <tr>\n",
       "      <th>max</th>\n",
       "      <td>2015.000000</td>\n",
       "      <td>89.000000</td>\n",
       "      <td>723.000000</td>\n",
       "      <td>1800.000000</td>\n",
       "      <td>17.870000</td>\n",
       "      <td>19479.911610</td>\n",
       "      <td>99.000000</td>\n",
       "      <td>212183.000000</td>\n",
       "      <td>87.300000</td>\n",
       "      <td>2500.000000</td>\n",
       "      <td>99.000000</td>\n",
       "      <td>17.60000</td>\n",
       "      <td>99.000000</td>\n",
       "      <td>50.600000</td>\n",
       "      <td>119172.741800</td>\n",
       "      <td>1.293859e+09</td>\n",
       "      <td>27.700000</td>\n",
       "      <td>28.600000</td>\n",
       "      <td>0.948000</td>\n",
       "      <td>20.700000</td>\n",
       "    </tr>\n",
       "  </tbody>\n",
       "</table>\n",
       "</div>"
      ],
      "text/plain": [
       "              Year  Life expectancy   Adult Mortality  infant deaths  \\\n",
       "count  2938.000000       2928.000000      2928.000000    2938.000000   \n",
       "mean   2007.518720         69.224932       164.796448      30.303948   \n",
       "std       4.613841          9.523867       124.292079     117.926501   \n",
       "min    2000.000000         36.300000         1.000000       0.000000   \n",
       "25%    2004.000000         63.100000        74.000000       0.000000   \n",
       "50%    2008.000000         72.100000       144.000000       3.000000   \n",
       "75%    2012.000000         75.700000       228.000000      22.000000   \n",
       "max    2015.000000         89.000000       723.000000    1800.000000   \n",
       "\n",
       "           Alcohol  percentage expenditure  Hepatitis B       Measles   \\\n",
       "count  2744.000000             2938.000000  2385.000000    2938.000000   \n",
       "mean      4.602861              738.251295    80.940461    2419.592240   \n",
       "std       4.052413             1987.914858    25.070016   11467.272489   \n",
       "min       0.010000                0.000000     1.000000       0.000000   \n",
       "25%       0.877500                4.685343    77.000000       0.000000   \n",
       "50%       3.755000               64.912906    92.000000      17.000000   \n",
       "75%       7.702500              441.534144    97.000000     360.250000   \n",
       "max      17.870000            19479.911610    99.000000  212183.000000   \n",
       "\n",
       "              BMI   under-five deaths         Polio  Total expenditure  \\\n",
       "count  2904.000000         2938.000000  2919.000000         2712.00000   \n",
       "mean     38.321247           42.035739    82.550188            5.93819   \n",
       "std      20.044034          160.445548    23.428046            2.49832   \n",
       "min       1.000000            0.000000     3.000000            0.37000   \n",
       "25%      19.300000            0.000000    78.000000            4.26000   \n",
       "50%      43.500000            4.000000    93.000000            5.75500   \n",
       "75%      56.200000           28.000000    97.000000            7.49250   \n",
       "max      87.300000         2500.000000    99.000000           17.60000   \n",
       "\n",
       "       Diphtheria      HIV/AIDS            GDP    Population  \\\n",
       "count  2919.000000  2938.000000    2490.000000  2.286000e+03   \n",
       "mean     82.324084     1.742103    7483.158469  1.275338e+07   \n",
       "std      23.716912     5.077785   14270.169342  6.101210e+07   \n",
       "min       2.000000     0.100000       1.681350  3.400000e+01   \n",
       "25%      78.000000     0.100000     463.935626  1.957932e+05   \n",
       "50%      93.000000     0.100000    1766.947595  1.386542e+06   \n",
       "75%      97.000000     0.800000    5910.806335  7.420359e+06   \n",
       "max      99.000000    50.600000  119172.741800  1.293859e+09   \n",
       "\n",
       "        thinness  1-19 years   thinness 5-9 years  \\\n",
       "count            2904.000000          2904.000000   \n",
       "mean                4.839704             4.870317   \n",
       "std                 4.420195             4.508882   \n",
       "min                 0.100000             0.100000   \n",
       "25%                 1.600000             1.500000   \n",
       "50%                 3.300000             3.300000   \n",
       "75%                 7.200000             7.200000   \n",
       "max                27.700000            28.600000   \n",
       "\n",
       "       Income composition of resources    Schooling  \n",
       "count                      2771.000000  2775.000000  \n",
       "mean                          0.627551    11.992793  \n",
       "std                           0.210904     3.358920  \n",
       "min                           0.000000     0.000000  \n",
       "25%                           0.493000    10.100000  \n",
       "50%                           0.677000    12.300000  \n",
       "75%                           0.779000    14.300000  \n",
       "max                           0.948000    20.700000  "
      ]
     },
     "execution_count": 25,
     "metadata": {},
     "output_type": "execute_result"
    }
   ],
   "source": [
    "# Realizamos una descripcion para ver el comportamiento del data set\n",
    "life_expectancy.describe()"
   ]
  },
  {
   "cell_type": "code",
   "execution_count": 26,
   "id": "0572d910-5fb3-4274-b438-c4bf5241f60a",
   "metadata": {},
   "outputs": [],
   "source": [
    "# Realizamos un analisis de valores nulos por anio\n",
    "nan_analysis = pd.DataFrame()"
   ]
  },
  {
   "cell_type": "code",
   "execution_count": 27,
   "id": "da64c4bc-9262-48c5-b581-dc9d840808c9",
   "metadata": {},
   "outputs": [],
   "source": [
    "for Year_ in life_expectancy.loc[ : , \"Year\" ].drop_duplicates():\n",
    "    countrydf = life_expectancy.loc[ life_expectancy['Year'] == Year_ , : ]    \n",
    "    for column_ in countrydf.columns:        \n",
    "        percentage =  np.sum(pd.isna( countrydf.loc[ : , column_ ]  )) / countrydf.shape[0]\n",
    "        dfrow = pd.DataFrame({\n",
    "            'Year': [ Year_ ]\n",
    "            , 'column' : [ column_ ]\n",
    "            , 'percentage.of.nans' : [ percentage ]\n",
    "        })\n",
    "        nan_analysis = pd.concat([nan_analysis, dfrow])"
   ]
  },
  {
   "cell_type": "code",
   "execution_count": 28,
   "id": "fc85c4af-35a8-4e1b-bf40-5be5fb0ee077",
   "metadata": {},
   "outputs": [
    {
     "data": {
      "text/html": [
       "<div>\n",
       "<style scoped>\n",
       "    .dataframe tbody tr th:only-of-type {\n",
       "        vertical-align: middle;\n",
       "    }\n",
       "\n",
       "    .dataframe tbody tr th {\n",
       "        vertical-align: top;\n",
       "    }\n",
       "\n",
       "    .dataframe thead th {\n",
       "        text-align: right;\n",
       "    }\n",
       "</style>\n",
       "<table border=\"1\" class=\"dataframe\">\n",
       "  <thead>\n",
       "    <tr style=\"text-align: right;\">\n",
       "      <th></th>\n",
       "      <th>Year</th>\n",
       "      <th>column</th>\n",
       "      <th>percentage.of.nans</th>\n",
       "    </tr>\n",
       "  </thead>\n",
       "  <tbody>\n",
       "    <tr>\n",
       "      <th>0</th>\n",
       "      <td>2015</td>\n",
       "      <td>Country</td>\n",
       "      <td>0.000000</td>\n",
       "    </tr>\n",
       "    <tr>\n",
       "      <th>0</th>\n",
       "      <td>2015</td>\n",
       "      <td>Year</td>\n",
       "      <td>0.000000</td>\n",
       "    </tr>\n",
       "    <tr>\n",
       "      <th>0</th>\n",
       "      <td>2015</td>\n",
       "      <td>Status</td>\n",
       "      <td>0.000000</td>\n",
       "    </tr>\n",
       "    <tr>\n",
       "      <th>0</th>\n",
       "      <td>2015</td>\n",
       "      <td>Life expectancy</td>\n",
       "      <td>0.000000</td>\n",
       "    </tr>\n",
       "    <tr>\n",
       "      <th>0</th>\n",
       "      <td>2015</td>\n",
       "      <td>Adult Mortality</td>\n",
       "      <td>0.000000</td>\n",
       "    </tr>\n",
       "    <tr>\n",
       "      <th>...</th>\n",
       "      <td>...</td>\n",
       "      <td>...</td>\n",
       "      <td>...</td>\n",
       "    </tr>\n",
       "    <tr>\n",
       "      <th>0</th>\n",
       "      <td>2000</td>\n",
       "      <td>Population</td>\n",
       "      <td>0.218579</td>\n",
       "    </tr>\n",
       "    <tr>\n",
       "      <th>0</th>\n",
       "      <td>2000</td>\n",
       "      <td>thinness  1-19 years</td>\n",
       "      <td>0.010929</td>\n",
       "    </tr>\n",
       "    <tr>\n",
       "      <th>0</th>\n",
       "      <td>2000</td>\n",
       "      <td>thinness 5-9 years</td>\n",
       "      <td>0.010929</td>\n",
       "    </tr>\n",
       "    <tr>\n",
       "      <th>0</th>\n",
       "      <td>2000</td>\n",
       "      <td>Income composition of resources</td>\n",
       "      <td>0.054645</td>\n",
       "    </tr>\n",
       "    <tr>\n",
       "      <th>0</th>\n",
       "      <td>2000</td>\n",
       "      <td>Schooling</td>\n",
       "      <td>0.054645</td>\n",
       "    </tr>\n",
       "  </tbody>\n",
       "</table>\n",
       "<p>352 rows × 3 columns</p>\n",
       "</div>"
      ],
      "text/plain": [
       "    Year                           column  percentage.of.nans\n",
       "0   2015                          Country            0.000000\n",
       "0   2015                             Year            0.000000\n",
       "0   2015                           Status            0.000000\n",
       "0   2015                 Life expectancy             0.000000\n",
       "0   2015                  Adult Mortality            0.000000\n",
       "..   ...                              ...                 ...\n",
       "0   2000                       Population            0.218579\n",
       "0   2000             thinness  1-19 years            0.010929\n",
       "0   2000               thinness 5-9 years            0.010929\n",
       "0   2000  Income composition of resources            0.054645\n",
       "0   2000                        Schooling            0.054645\n",
       "\n",
       "[352 rows x 3 columns]"
      ]
     },
     "execution_count": 28,
     "metadata": {},
     "output_type": "execute_result"
    }
   ],
   "source": [
    "nan_analysis"
   ]
  },
  {
   "cell_type": "markdown",
   "id": "7332b44a-f057-48d1-8e0c-779cf7d1d3f0",
   "metadata": {},
   "source": [
    "# Limpieza de valores nulos"
   ]
  },
  {
   "cell_type": "code",
   "execution_count": 29,
   "id": "14cf492b-e61a-409e-82e8-29b6b0ddccfa",
   "metadata": {},
   "outputs": [],
   "source": [
    "df_limpio = life_expectancy"
   ]
  },
  {
   "cell_type": "code",
   "execution_count": 30,
   "id": "40536856-c60d-402c-9eaf-2cb4f32e5b6b",
   "metadata": {},
   "outputs": [
    {
     "name": "stdout",
     "output_type": "stream",
     "text": [
      "Country\n",
      "0\n",
      " \n",
      "Year\n",
      "0\n",
      " \n",
      "Status\n",
      "0\n",
      " \n",
      "Life expectancy \n",
      "10\n",
      " \n",
      "Adult Mortality\n",
      "10\n",
      " \n",
      "infant deaths\n",
      "0\n",
      " \n",
      "Alcohol\n",
      "194\n",
      " \n",
      "percentage expenditure\n",
      "0\n",
      " \n",
      "Hepatitis B\n",
      "553\n",
      " \n",
      "Measles \n",
      "0\n",
      " \n",
      " BMI \n",
      "34\n",
      " \n",
      "under-five deaths \n",
      "0\n",
      " \n",
      "Polio\n",
      "19\n",
      " \n",
      "Total expenditure\n",
      "226\n",
      " \n",
      "Diphtheria \n",
      "19\n",
      " \n",
      " HIV/AIDS\n",
      "0\n",
      " \n",
      "GDP\n",
      "448\n",
      " \n",
      "Population\n",
      "652\n",
      " \n",
      " thinness  1-19 years\n",
      "34\n",
      " \n",
      " thinness 5-9 years\n",
      "34\n",
      " \n",
      "Income composition of resources\n",
      "167\n",
      " \n",
      "Schooling\n",
      "163\n",
      " \n"
     ]
    }
   ],
   "source": [
    "# hacemos un recorrido para ver las columnas con valores nulos\n",
    "for c_ in df_limpio.columns:\n",
    "    print(c_)\n",
    "    print(np.sum(df_limpio[c_].isna()))\n",
    "    print(\" \")"
   ]
  },
  {
   "cell_type": "code",
   "execution_count": 31,
   "id": "b0a91839-2d96-453f-aef0-1b5bbb62ebe0",
   "metadata": {},
   "outputs": [],
   "source": [
    "# Columnas a limpiar\n",
    "columnas_a_limpiar= ['Life expectancy ','Adult Mortality','Alcohol','Hepatitis B',' BMI ', 'Polio','Total expenditure','Diphtheria ','GDP','Population',' thinness  1-19 years',' thinness 5-9 years','Income composition of resources','Schooling']"
   ]
  },
  {
   "cell_type": "code",
   "execution_count": 32,
   "id": "2138a945-76f3-4542-a823-17da9e62eb80",
   "metadata": {},
   "outputs": [],
   "source": [
    "# Mediante un ciclo for realizamos la limpieza de estas columnas con la media\n",
    "for d_ in df_limpio[columnas_a_limpiar]:\n",
    "    mediana= df_limpio[d_].median()\n",
    "    df_limpio[d_]=df_limpio[d_].fillna(mediana)"
   ]
  },
  {
   "cell_type": "markdown",
   "id": "ffb399d6-ae05-45fb-a66e-8130c2c814ba",
   "metadata": {},
   "source": [
    "## Comprobamos si se ha realizado la limpieza de manera correcta"
   ]
  },
  {
   "cell_type": "code",
   "execution_count": 33,
   "id": "bb5075dc-9ea2-4712-9369-7307ade25860",
   "metadata": {},
   "outputs": [
    {
     "name": "stdout",
     "output_type": "stream",
     "text": [
      "Country\n",
      "0\n",
      " \n",
      "Year\n",
      "0\n",
      " \n",
      "Status\n",
      "0\n",
      " \n",
      "Life expectancy \n",
      "0\n",
      " \n",
      "Adult Mortality\n",
      "0\n",
      " \n",
      "infant deaths\n",
      "0\n",
      " \n",
      "Alcohol\n",
      "0\n",
      " \n",
      "percentage expenditure\n",
      "0\n",
      " \n",
      "Hepatitis B\n",
      "0\n",
      " \n",
      "Measles \n",
      "0\n",
      " \n",
      " BMI \n",
      "0\n",
      " \n",
      "under-five deaths \n",
      "0\n",
      " \n",
      "Polio\n",
      "0\n",
      " \n",
      "Total expenditure\n",
      "0\n",
      " \n",
      "Diphtheria \n",
      "0\n",
      " \n",
      " HIV/AIDS\n",
      "0\n",
      " \n",
      "GDP\n",
      "0\n",
      " \n",
      "Population\n",
      "0\n",
      " \n",
      " thinness  1-19 years\n",
      "0\n",
      " \n",
      " thinness 5-9 years\n",
      "0\n",
      " \n",
      "Income composition of resources\n",
      "0\n",
      " \n",
      "Schooling\n",
      "0\n",
      " \n"
     ]
    }
   ],
   "source": [
    "for c_ in df_limpio.columns:\n",
    "    print(c_)\n",
    "    print(np.sum(df_limpio[c_].isna()))\n",
    "    print(\" \")"
   ]
  },
  {
   "cell_type": "markdown",
   "id": "466acb10-ec3b-4795-9fa4-e9368bdc5d35",
   "metadata": {},
   "source": [
    "## El nuevo dataset sin valores nulos es: df_limpio"
   ]
  },
  {
   "cell_type": "code",
   "execution_count": 35,
   "id": "d2405e89-f10e-4a07-a0c7-09cb18381ce1",
   "metadata": {},
   "outputs": [
    {
     "data": {
      "text/html": [
       "<div>\n",
       "<style scoped>\n",
       "    .dataframe tbody tr th:only-of-type {\n",
       "        vertical-align: middle;\n",
       "    }\n",
       "\n",
       "    .dataframe tbody tr th {\n",
       "        vertical-align: top;\n",
       "    }\n",
       "\n",
       "    .dataframe thead th {\n",
       "        text-align: right;\n",
       "    }\n",
       "</style>\n",
       "<table border=\"1\" class=\"dataframe\">\n",
       "  <thead>\n",
       "    <tr style=\"text-align: right;\">\n",
       "      <th></th>\n",
       "      <th>Country</th>\n",
       "      <th>Year</th>\n",
       "      <th>Status</th>\n",
       "      <th>Life expectancy</th>\n",
       "      <th>Adult Mortality</th>\n",
       "      <th>infant deaths</th>\n",
       "      <th>Alcohol</th>\n",
       "      <th>percentage expenditure</th>\n",
       "      <th>Hepatitis B</th>\n",
       "      <th>Measles</th>\n",
       "      <th>...</th>\n",
       "      <th>Polio</th>\n",
       "      <th>Total expenditure</th>\n",
       "      <th>Diphtheria</th>\n",
       "      <th>HIV/AIDS</th>\n",
       "      <th>GDP</th>\n",
       "      <th>Population</th>\n",
       "      <th>thinness  1-19 years</th>\n",
       "      <th>thinness 5-9 years</th>\n",
       "      <th>Income composition of resources</th>\n",
       "      <th>Schooling</th>\n",
       "    </tr>\n",
       "  </thead>\n",
       "  <tbody>\n",
       "    <tr>\n",
       "      <th>0</th>\n",
       "      <td>Afghanistan</td>\n",
       "      <td>2015</td>\n",
       "      <td>Developing</td>\n",
       "      <td>65.0</td>\n",
       "      <td>263.0</td>\n",
       "      <td>62</td>\n",
       "      <td>0.01</td>\n",
       "      <td>71.279624</td>\n",
       "      <td>65.0</td>\n",
       "      <td>1154</td>\n",
       "      <td>...</td>\n",
       "      <td>6.0</td>\n",
       "      <td>8.16</td>\n",
       "      <td>65.0</td>\n",
       "      <td>0.1</td>\n",
       "      <td>584.259210</td>\n",
       "      <td>33736494.0</td>\n",
       "      <td>17.2</td>\n",
       "      <td>17.3</td>\n",
       "      <td>0.479</td>\n",
       "      <td>10.1</td>\n",
       "    </tr>\n",
       "    <tr>\n",
       "      <th>1</th>\n",
       "      <td>Afghanistan</td>\n",
       "      <td>2014</td>\n",
       "      <td>Developing</td>\n",
       "      <td>59.9</td>\n",
       "      <td>271.0</td>\n",
       "      <td>64</td>\n",
       "      <td>0.01</td>\n",
       "      <td>73.523582</td>\n",
       "      <td>62.0</td>\n",
       "      <td>492</td>\n",
       "      <td>...</td>\n",
       "      <td>58.0</td>\n",
       "      <td>8.18</td>\n",
       "      <td>62.0</td>\n",
       "      <td>0.1</td>\n",
       "      <td>612.696514</td>\n",
       "      <td>327582.0</td>\n",
       "      <td>17.5</td>\n",
       "      <td>17.5</td>\n",
       "      <td>0.476</td>\n",
       "      <td>10.0</td>\n",
       "    </tr>\n",
       "    <tr>\n",
       "      <th>2</th>\n",
       "      <td>Afghanistan</td>\n",
       "      <td>2013</td>\n",
       "      <td>Developing</td>\n",
       "      <td>59.9</td>\n",
       "      <td>268.0</td>\n",
       "      <td>66</td>\n",
       "      <td>0.01</td>\n",
       "      <td>73.219243</td>\n",
       "      <td>64.0</td>\n",
       "      <td>430</td>\n",
       "      <td>...</td>\n",
       "      <td>62.0</td>\n",
       "      <td>8.13</td>\n",
       "      <td>64.0</td>\n",
       "      <td>0.1</td>\n",
       "      <td>631.744976</td>\n",
       "      <td>31731688.0</td>\n",
       "      <td>17.7</td>\n",
       "      <td>17.7</td>\n",
       "      <td>0.470</td>\n",
       "      <td>9.9</td>\n",
       "    </tr>\n",
       "    <tr>\n",
       "      <th>3</th>\n",
       "      <td>Afghanistan</td>\n",
       "      <td>2012</td>\n",
       "      <td>Developing</td>\n",
       "      <td>59.5</td>\n",
       "      <td>272.0</td>\n",
       "      <td>69</td>\n",
       "      <td>0.01</td>\n",
       "      <td>78.184215</td>\n",
       "      <td>67.0</td>\n",
       "      <td>2787</td>\n",
       "      <td>...</td>\n",
       "      <td>67.0</td>\n",
       "      <td>8.52</td>\n",
       "      <td>67.0</td>\n",
       "      <td>0.1</td>\n",
       "      <td>669.959000</td>\n",
       "      <td>3696958.0</td>\n",
       "      <td>17.9</td>\n",
       "      <td>18.0</td>\n",
       "      <td>0.463</td>\n",
       "      <td>9.8</td>\n",
       "    </tr>\n",
       "    <tr>\n",
       "      <th>4</th>\n",
       "      <td>Afghanistan</td>\n",
       "      <td>2011</td>\n",
       "      <td>Developing</td>\n",
       "      <td>59.2</td>\n",
       "      <td>275.0</td>\n",
       "      <td>71</td>\n",
       "      <td>0.01</td>\n",
       "      <td>7.097109</td>\n",
       "      <td>68.0</td>\n",
       "      <td>3013</td>\n",
       "      <td>...</td>\n",
       "      <td>68.0</td>\n",
       "      <td>7.87</td>\n",
       "      <td>68.0</td>\n",
       "      <td>0.1</td>\n",
       "      <td>63.537231</td>\n",
       "      <td>2978599.0</td>\n",
       "      <td>18.2</td>\n",
       "      <td>18.2</td>\n",
       "      <td>0.454</td>\n",
       "      <td>9.5</td>\n",
       "    </tr>\n",
       "  </tbody>\n",
       "</table>\n",
       "<p>5 rows × 22 columns</p>\n",
       "</div>"
      ],
      "text/plain": [
       "       Country  Year      Status  Life expectancy   Adult Mortality  \\\n",
       "0  Afghanistan  2015  Developing              65.0            263.0   \n",
       "1  Afghanistan  2014  Developing              59.9            271.0   \n",
       "2  Afghanistan  2013  Developing              59.9            268.0   \n",
       "3  Afghanistan  2012  Developing              59.5            272.0   \n",
       "4  Afghanistan  2011  Developing              59.2            275.0   \n",
       "\n",
       "   infant deaths  Alcohol  percentage expenditure  Hepatitis B  Measles   ...  \\\n",
       "0             62     0.01               71.279624         65.0      1154  ...   \n",
       "1             64     0.01               73.523582         62.0       492  ...   \n",
       "2             66     0.01               73.219243         64.0       430  ...   \n",
       "3             69     0.01               78.184215         67.0      2787  ...   \n",
       "4             71     0.01                7.097109         68.0      3013  ...   \n",
       "\n",
       "   Polio  Total expenditure  Diphtheria    HIV/AIDS         GDP  Population  \\\n",
       "0    6.0               8.16         65.0        0.1  584.259210  33736494.0   \n",
       "1   58.0               8.18         62.0        0.1  612.696514    327582.0   \n",
       "2   62.0               8.13         64.0        0.1  631.744976  31731688.0   \n",
       "3   67.0               8.52         67.0        0.1  669.959000   3696958.0   \n",
       "4   68.0               7.87         68.0        0.1   63.537231   2978599.0   \n",
       "\n",
       "    thinness  1-19 years   thinness 5-9 years  \\\n",
       "0                   17.2                 17.3   \n",
       "1                   17.5                 17.5   \n",
       "2                   17.7                 17.7   \n",
       "3                   17.9                 18.0   \n",
       "4                   18.2                 18.2   \n",
       "\n",
       "   Income composition of resources  Schooling  \n",
       "0                            0.479       10.1  \n",
       "1                            0.476       10.0  \n",
       "2                            0.470        9.9  \n",
       "3                            0.463        9.8  \n",
       "4                            0.454        9.5  \n",
       "\n",
       "[5 rows x 22 columns]"
      ]
     },
     "execution_count": 35,
     "metadata": {},
     "output_type": "execute_result"
    }
   ],
   "source": [
    "df_limpio.head()"
   ]
  },
  {
   "cell_type": "markdown",
   "id": "3c1747ca-93ba-4c98-b8fa-8d154c8a47ae",
   "metadata": {},
   "source": [
    "## Realizamos el analisis de Bloxplots"
   ]
  },
  {
   "cell_type": "markdown",
   "id": "df75a172-2ce6-4ee6-a3ee-dd2dbe53e4f5",
   "metadata": {},
   "source": [
    "#### Bloxplots: El objetivo de utilizar cajas de bigotes es para visualizar la dispersión de los datos y para comparar la distribución de los mismo. También se puede utilizar para detectar valores atípicos o \"outliers\" en los datos."
   ]
  },
  {
   "cell_type": "markdown",
   "id": "b1b88410-3881-4f1d-849f-4580e8f22828",
   "metadata": {},
   "source": [
    "##### Primero se realiza el cálculo de los valores valores atípicos para conocer cuántos son y el porcentaje que representan utilizando el método Tukey. Luego se utiliza la técnica de Winsorize para remover los valores valores atípicos y se muestran los boxplots con y sin los valores atípicos de cada columna."
   ]
  },
  {
   "cell_type": "code",
   "execution_count": 37,
   "id": "1236c3b5-2daf-43ed-b04f-3d9371f5e8dd",
   "metadata": {},
   "outputs": [
    {
     "name": "stdout",
     "output_type": "stream",
     "text": [
      "La cantidad de valores atípicos para --Life expectancy -- es 17 y su porcentaje es 0.8555611474584801\n",
      "La cantidad de valores atípicos para --Adult Mortality-- es 86 y su porcentaje es 4.3281328636134875\n",
      "La cantidad de valores atípicos para --infant deaths-- es 315 y su porcentaje es 15.853044791142425\n",
      "La cantidad de valores atípicos para --Alcohol-- es 3 y su porcentaje es 0.1509813789632612\n",
      "La cantidad de valores atípicos para --percentage expenditure-- es 389 y su porcentaje es 19.577252138902868\n",
      "La cantidad de valores atípicos para --Hepatitis B-- es 322 y su porcentaje es 16.205334675390034\n",
      "La cantidad de valores atípicos para --Measles -- es 542 y su porcentaje es 27.27730246602919\n",
      "La cantidad de valores atípicos para -- BMI -- es 0 y su porcentaje es 0.0\n",
      "La cantidad de valores atípicos para --under-five deaths -- es 394 y su porcentaje es 19.828887770508302\n",
      "La cantidad de valores atípicos para --Polio-- es 279 y su porcentaje es 14.041268243583291\n",
      "La cantidad de valores atípicos para --Total expenditure-- es 51 y su porcentaje es 2.5666834423754405\n",
      "La cantidad de valores atípicos para --Diphtheria -- es 298 y su porcentaje es 14.997483643683946\n",
      "La cantidad de valores atípicos para -- HIV/AIDS-- es 542 y su porcentaje es 27.27730246602919\n",
      "La cantidad de valores atípicos para --GDP-- es 445 y su porcentaje es 22.395571212883745\n",
      "La cantidad de valores atípicos para --Population-- es 452 y su porcentaje es 22.747861097131352\n",
      "La cantidad de valores atípicos para -- thinness  1-19 years-- es 100 y su porcentaje es 5.032712632108707\n",
      "La cantidad de valores atípicos para -- thinness 5-9 years-- es 99 y su porcentaje es 4.98238550578762\n",
      "La cantidad de valores atípicos para --Income composition of resources-- es 130 y su porcentaje es 6.542526421741319\n",
      "La cantidad de valores atípicos para --Schooling-- es 77 y su porcentaje es 3.875188726723704\n"
     ]
    }
   ],
   "source": [
    "# Creamos un diccionaron con las columnas que utiilizaremos para realizar los boxplots.\n",
    "bp_cols= {'Life expectancy ':1, 'Adult Mortality':2,\n",
    "       'infant deaths':3, 'Alcohol':4, 'percentage expenditure':5, 'Hepatitis B':6,\n",
    "       'Measles ':7, ' BMI ':8, 'under-five deaths ':9, 'Polio':10, 'Total expenditure':11,\n",
    "       'Diphtheria ':12, ' HIV/AIDS':13, 'GDP':14, 'Population':15,\n",
    "       ' thinness  1-19 years':16, ' thinness 5-9 years':17,\n",
    "       'Income composition of resources':18, 'Schooling':19}\n",
    "\n",
    "# Calculando la cantidad de valores atípicos y su porcentaje usando el método Tukey.\n",
    "for columna_o in bp_cols.keys():\n",
    "    q75, q25 = np.percentile(df_limpio[columna_o], [75 ,25])\n",
    "    iqr = q75 - q25\n",
    "\n",
    "    min_val = q25 - (iqr*1.5)\n",
    "    max_val = q75 + (iqr*1.5)\n",
    "    ##imprimimos los resultados\n",
    "    print(\"La cantidad de valores atípicos para --{}-- es {} y su porcentaje es {}\".format(columna_o,\n",
    "                                                                             len((np.where((df_limpio[columna_o] > max_val) | \n",
    "                                                                                           (df_limpio[columna_o] < min_val))[0])),len((np.where((df_limpio[columna_o] > max_val) | \n",
    "                                                                                           (df_limpio[columna_o] < min_val))[0]))*100/1987))\n",
    "    "
   ]
  },
  {
   "cell_type": "code",
   "execution_count": null,
   "id": "e40bb2fc-b2e7-43eb-8842-e6843717d4e6",
   "metadata": {},
   "outputs": [],
   "source": []
  },
  {
   "cell_type": "markdown",
   "id": "086ed22d-20e6-46ce-b9be-aed4ded0bcba",
   "metadata": {},
   "source": [
    "## Generación de los boxplots\n",
    "##### Se generan los boxplots con y sin valores atípicos, se guarda el resultado excuyendo los valores atípicos para trabajar con ellos después."
   ]
  },
  {
   "cell_type": "code",
   "execution_count": 43,
   "id": "47b2cd39-653a-4ba4-a39f-8c095bd802bf",
   "metadata": {},
   "outputs": [
    {
     "data": {
      "image/png": "[encoded data removed]",
      "text/plain": [
       "<Figure size 1296x432 with 2 Axes>"
      ]
     },
     "metadata": {
      "needs_background": "light"
     },
     "output_type": "display_data"
    }
   ],
   "source": [
    "plt.figure(figsize=(18,6))\n",
    "\n",
    "plt.subplot(1,2,1)\n",
    "original_Life_Expectancy = df_limpio['Life expectancy ']\n",
    "plt.boxplot(original_Life_Expectancy)\n",
    "plt.title(\"Original Life Expectancy\")\n",
    "\n",
    "plt.subplot(1,2,2)\n",
    "winsorized_Life_Expectancy = winsorize(df_limpio['Life expectancy '],(0.01,0))\n",
    "plt.boxplot(winsorized_Life_Expectancy)\n",
    "plt.title(\"Winsorized Life Expectancy\")\n",
    "\n",
    "plt.show()"
   ]
  },
  {
   "cell_type": "code",
   "execution_count": 45,
   "id": "3ecbd106-622c-4b50-b923-e1785d48dc7c",
   "metadata": {},
   "outputs": [
    {
     "data": {
      "image/png": "[encoded data removed]",
      "text/plain": [
       "<Figure size 1296x432 with 2 Axes>"
      ]
     },
     "metadata": {
      "needs_background": "light"
     },
     "output_type": "display_data"
    }
   ],
   "source": [
    "plt.figure(figsize=(18,6))\n",
    "\n",
    "plt.subplot(1,2,1)\n",
    "original_Adult_Mortality = df_limpio['Adult Mortality']\n",
    "plt.boxplot(original_Adult_Mortality)\n",
    "plt.title(\"Original Adult Mortality\")\n",
    "\n",
    "plt.subplot(1,2,2)\n",
    "winsorized_Adult_Mortality = winsorize(df_limpio['Adult Mortality'],(0,0.03))\n",
    "plt.boxplot(winsorized_Adult_Mortality)\n",
    "plt.title(\"Winsorized Adult Mortality\")\n",
    "\n",
    "plt.show()"
   ]
  },
  {
   "cell_type": "code",
   "execution_count": 46,
   "id": "52b56faf-d2b8-4e9c-98d4-a6d8b0fd6e1f",
   "metadata": {},
   "outputs": [
    {
     "data": {
      "image/png": "[encoded data removed]",
      "text/plain": [
       "<Figure size 1296x432 with 2 Axes>"
      ]
     },
     "metadata": {
      "needs_background": "light"
     },
     "output_type": "display_data"
    }
   ],
   "source": [
    "plt.figure(figsize=(18,6))\n",
    "\n",
    "plt.subplot(1,2,1)\n",
    "original_Infant_Deaths = df_limpio['infant deaths']\n",
    "plt.boxplot(original_Infant_Deaths)\n",
    "plt.title(\"Original Infant Deaths\")\n",
    "\n",
    "plt.subplot(1,2,2)\n",
    "winsorized_Infant_Deaths = winsorize(df_limpio['infant deaths'],(0,0.15))\n",
    "plt.boxplot(winsorized_Infant_Deaths)\n",
    "plt.title(\"Winsorized Infant Deaths\")\n",
    "\n",
    "plt.show()"
   ]
  },
  {
   "cell_type": "code",
   "execution_count": 47,
   "id": "07de8a4e-086b-43a4-bb11-b05b6bc34c2c",
   "metadata": {},
   "outputs": [
    {
     "data": {
      "image/png": "[encoded data removed]",
      "text/plain": [
       "<Figure size 1296x432 with 2 Axes>"
      ]
     },
     "metadata": {
      "needs_background": "light"
     },
     "output_type": "display_data"
    }
   ],
   "source": [
    "plt.figure(figsize=(18,6))\n",
    "\n",
    "plt.subplot(1,2,1)\n",
    "original_Alcohol = df_limpio['Alcohol']\n",
    "plt.boxplot(original_Alcohol)\n",
    "plt.title(\"Original Alcohol\")\n",
    "\n",
    "plt.subplot(1,2,2)\n",
    "winsorized_Alcohol = winsorize(df_limpio['Alcohol'],(0,0.015))\n",
    "plt.boxplot(winsorized_Alcohol)\n",
    "plt.title(\"Winsorized Alcohol\")\n",
    "\n",
    "plt.show()"
   ]
  },
  {
   "cell_type": "code",
   "execution_count": 48,
   "id": "3646ef7f-f6d7-4b0e-ab99-b41724ba5cd9",
   "metadata": {},
   "outputs": [
    {
     "data": {
      "image/png": "[encoded data removed]",
      "text/plain": [
       "<Figure size 1296x432 with 2 Axes>"
      ]
     },
     "metadata": {
      "needs_background": "light"
     },
     "output_type": "display_data"
    }
   ],
   "source": [
    "plt.figure(figsize=(18,6))\n",
    "\n",
    "plt.subplot(1,2,1)\n",
    "original_Percentage_Exp = df_limpio['percentage expenditure']\n",
    "plt.boxplot(original_Percentage_Exp)\n",
    "plt.title(\"Original Percentage Exp\")\n",
    "\n",
    "plt.subplot(1,2,2)\n",
    "winsorized_Percentage_Exp = winsorize(df_limpio['percentage expenditure'],(0,0.19))\n",
    "plt.boxplot(winsorized_Percentage_Exp)\n",
    "plt.title(\"Winsorized Percentage Exp\")\n",
    "\n",
    "plt.show()"
   ]
  },
  {
   "cell_type": "code",
   "execution_count": 49,
   "id": "a981569e-3154-4140-bf97-f45157316d55",
   "metadata": {},
   "outputs": [
    {
     "data": {
      "image/png": "[encoded data removed]",
      "text/plain": [
       "<Figure size 1296x432 with 2 Axes>"
      ]
     },
     "metadata": {
      "needs_background": "light"
     },
     "output_type": "display_data"
    }
   ],
   "source": [
    "plt.figure(figsize=(18,6))\n",
    "\n",
    "plt.subplot(1,2,1)\n",
    "original_HepatitisB = df_limpio['Hepatitis B']\n",
    "plt.boxplot(original_HepatitisB)\n",
    "plt.title(\"Original HepatitisB\")\n",
    "\n",
    "plt.subplot(1,2,2)\n",
    "winsorized_HepatitisB = winsorize(df_limpio['Hepatitis B'],(0.16,0))\n",
    "plt.boxplot(winsorized_HepatitisB)\n",
    "plt.title(\"Winsorized HepatitisB\")\n",
    "\n",
    "plt.show()"
   ]
  },
  {
   "cell_type": "code",
   "execution_count": 50,
   "id": "a4a14e1e-65e6-4586-8327-6077d3761bb2",
   "metadata": {},
   "outputs": [
    {
     "data": {
      "image/png": "[encoded data removed]",
      "text/plain": [
       "<Figure size 1296x432 with 2 Axes>"
      ]
     },
     "metadata": {
      "needs_background": "light"
     },
     "output_type": "display_data"
    }
   ],
   "source": [
    "plt.figure(figsize=(18,6))\n",
    "\n",
    "plt.subplot(1,2,1)\n",
    "original_Measles = df_limpio['Measles ']\n",
    "plt.boxplot(original_Measles)\n",
    "plt.title(\"Original Measles\")\n",
    "\n",
    "plt.subplot(1,2,2)\n",
    "winsorized_Measles = winsorize(df_limpio['Measles '],(0,0.27))\n",
    "plt.boxplot(winsorized_Measles)\n",
    "plt.title(\"Winsorized Measles\")\n",
    "\n",
    "plt.show()"
   ]
  },
  {
   "cell_type": "code",
   "execution_count": 51,
   "id": "5946025c-35db-4c5e-a366-71104f367707",
   "metadata": {},
   "outputs": [
    {
     "data": {
      "image/png": "[encoded data removed]",
      "text/plain": [
       "<Figure size 1296x432 with 2 Axes>"
      ]
     },
     "metadata": {
      "needs_background": "light"
     },
     "output_type": "display_data"
    }
   ],
   "source": [
    "plt.figure(figsize=(18,6))\n",
    "\n",
    "plt.subplot(1,2,1)\n",
    "original_Under_Five_Deaths = df_limpio['under-five deaths ']\n",
    "plt.boxplot(original_Under_Five_Deaths)\n",
    "plt.title(\"Original Under Five Deaths\")\n",
    "\n",
    "plt.subplot(1,2,2)\n",
    "winsorized_Under_Five_Deaths = winsorize(df_limpio['under-five deaths '],(0,0.19))\n",
    "plt.boxplot(winsorized_Under_Five_Deaths)\n",
    "plt.title(\"Winsorized Under Five Deaths\")\n",
    "\n",
    "plt.show()"
   ]
  },
  {
   "cell_type": "code",
   "execution_count": 52,
   "id": "5b1ae614-7306-4f4d-9e18-474cfd791bf9",
   "metadata": {},
   "outputs": [
    {
     "data": {
      "image/png": "[encoded data removed]",
      "text/plain": [
       "<Figure size 1296x432 with 2 Axes>"
      ]
     },
     "metadata": {
      "needs_background": "light"
     },
     "output_type": "display_data"
    }
   ],
   "source": [
    "plt.figure(figsize=(18,6))\n",
    "\n",
    "plt.subplot(1,2,1)\n",
    "original_Polio = df_limpio['Polio']\n",
    "plt.boxplot(original_Polio)\n",
    "plt.title(\"Original Polio\")\n",
    "\n",
    "plt.subplot(1,2,2)\n",
    "winsorized_Polio = winsorize(df_limpio['Polio'],(0.14,0))\n",
    "plt.boxplot(winsorized_Polio)\n",
    "plt.title(\"Winsorized Polio\")\n",
    "\n",
    "plt.show()"
   ]
  },
  {
   "cell_type": "code",
   "execution_count": 53,
   "id": "b25033d0-14b9-4ad6-a207-4e5d97ee94e1",
   "metadata": {},
   "outputs": [
    {
     "data": {
      "image/png": "[encoded data removed]",
      "text/plain": [
       "<Figure size 1296x432 with 2 Axes>"
      ]
     },
     "metadata": {
      "needs_background": "light"
     },
     "output_type": "display_data"
    }
   ],
   "source": [
    "plt.figure(figsize=(18,6))\n",
    "\n",
    "plt.subplot(1,2,1)\n",
    "original_Tot_Exp = df_limpio['Total expenditure']\n",
    "plt.boxplot(original_Tot_Exp)\n",
    "plt.title(\"Original Tot Exp\")\n",
    "\n",
    "plt.subplot(1,2,2)\n",
    "winsorized_Tot_Exp = winsorize(df_limpio['Total expenditure'],(0,0.02))\n",
    "plt.boxplot(winsorized_Tot_Exp)\n",
    "plt.title(\"Winsorized Tot Exp\")\n",
    "\n",
    "plt.show()"
   ]
  },
  {
   "cell_type": "code",
   "execution_count": 54,
   "id": "5fa7d81a-6d6c-416f-ac7b-a0a7094963f8",
   "metadata": {},
   "outputs": [
    {
     "data": {
      "image/png": "[encoded data removed]",
      "text/plain": [
       "<Figure size 1296x432 with 2 Axes>"
      ]
     },
     "metadata": {
      "needs_background": "light"
     },
     "output_type": "display_data"
    }
   ],
   "source": [
    "plt.figure(figsize=(18,6))\n",
    "\n",
    "plt.subplot(1,2,1)\n",
    "original_Diphtheria = df_limpio['Diphtheria ']\n",
    "plt.boxplot(original_Diphtheria)\n",
    "plt.title(\"Original Diphtheria\")\n",
    "\n",
    "plt.subplot(1,2,2)\n",
    "winsorized_Diphtheria = winsorize(df_limpio['Diphtheria '],(0.15,0))\n",
    "plt.boxplot(winsorized_Diphtheria)\n",
    "plt.title(\"Winsorized Diphtheria\")\n",
    "\n",
    "plt.show()"
   ]
  },
  {
   "cell_type": "code",
   "execution_count": 55,
   "id": "d5940c54-f00a-47a7-aa2d-df6c0d9d3efb",
   "metadata": {},
   "outputs": [
    {
     "data": {
      "image/png": "[encoded data removed]",
      "text/plain": [
       "<Figure size 1296x432 with 2 Axes>"
      ]
     },
     "metadata": {
      "needs_background": "light"
     },
     "output_type": "display_data"
    }
   ],
   "source": [
    "plt.figure(figsize=(18,6))\n",
    "\n",
    "plt.subplot(1,2,1)\n",
    "original_HIV = df_limpio[' HIV/AIDS']\n",
    "plt.boxplot(original_HIV)\n",
    "plt.title(\"Original HIV\")\n",
    "\n",
    "plt.subplot(1,2,2)\n",
    "winsorized_HIV = winsorize(df_limpio[' HIV/AIDS'],(0,0.27))\n",
    "plt.boxplot(winsorized_HIV)\n",
    "plt.title(\"Winsorized HIV\")\n",
    "\n",
    "plt.show()"
   ]
  },
  {
   "cell_type": "code",
   "execution_count": 56,
   "id": "49189a9e-b088-4b5e-a5d9-073b0ccdd1f6",
   "metadata": {},
   "outputs": [
    {
     "data": {
      "image/png": "[encoded data removed]",
      "text/plain": [
       "<Figure size 1296x432 with 2 Axes>"
      ]
     },
     "metadata": {
      "needs_background": "light"
     },
     "output_type": "display_data"
    }
   ],
   "source": [
    "plt.figure(figsize=(18,6))\n",
    "\n",
    "plt.subplot(1,2,1)\n",
    "original_GDP = df_limpio['GDP']\n",
    "plt.boxplot(original_GDP)\n",
    "plt.title(\"Original GDP\")\n",
    "\n",
    "plt.subplot(1,2,2)\n",
    "winsorized_GDP = winsorize(df_limpio['GDP'],(0,0.22))\n",
    "plt.boxplot(winsorized_GDP)\n",
    "plt.title(\"Winsorized GDP\")\n",
    "\n",
    "plt.show()"
   ]
  },
  {
   "cell_type": "code",
   "execution_count": 57,
   "id": "e598e6f9-8f7a-4ee9-894d-5bd8c9fa5c13",
   "metadata": {},
   "outputs": [
    {
     "data": {
      "image/png": "[encoded data removed]",
      "text/plain": [
       "<Figure size 1296x432 with 2 Axes>"
      ]
     },
     "metadata": {
      "needs_background": "light"
     },
     "output_type": "display_data"
    }
   ],
   "source": [
    "plt.figure(figsize=(18,6))\n",
    "\n",
    "plt.subplot(1,2,1)\n",
    "original_Population = df_limpio['Population']\n",
    "plt.boxplot(original_Population)\n",
    "plt.title(\"Original Population\")\n",
    "\n",
    "plt.subplot(1,2,2)\n",
    "winsorized_Population = winsorize(df_limpio['Population'],(0,0.23))\n",
    "plt.boxplot(winsorized_Population)\n",
    "plt.title(\"Winsorized Population\")\n",
    "\n",
    "plt.show()"
   ]
  },
  {
   "cell_type": "code",
   "execution_count": 58,
   "id": "853aea79-3ed5-43b7-a962-3cb4bdc2c975",
   "metadata": {},
   "outputs": [
    {
     "data": {
      "image/png": "[encoded data removed]",
      "text/plain": [
       "<Figure size 1296x432 with 2 Axes>"
      ]
     },
     "metadata": {
      "needs_background": "light"
     },
     "output_type": "display_data"
    }
   ],
   "source": [
    "plt.figure(figsize=(18,6))\n",
    "\n",
    "plt.subplot(1,2,1)\n",
    "original_thinness_1to19_years = df_limpio[' thinness  1-19 years']\n",
    "plt.boxplot(original_thinness_1to19_years)\n",
    "plt.title(\"Original thinness 1 to 19 years\")\n",
    "\n",
    "plt.subplot(1,2,2)\n",
    "winsorized_thinness_1to19_years = winsorize(df_limpio[' thinness  1-19 years'],(0,0.05))\n",
    "plt.boxplot(winsorized_thinness_1to19_years)\n",
    "plt.title(\"Winsorized thinness 1 to 19 years\")\n",
    "\n",
    "plt.show()"
   ]
  },
  {
   "cell_type": "code",
   "execution_count": 59,
   "id": "7837aec7-17f0-4e3c-b9ac-e4695eb132f6",
   "metadata": {},
   "outputs": [
    {
     "data": {
      "image/png": "[encoded data removed]",
      "text/plain": [
       "<Figure size 1296x432 with 2 Axes>"
      ]
     },
     "metadata": {
      "needs_background": "light"
     },
     "output_type": "display_data"
    }
   ],
   "source": [
    "plt.figure(figsize=(18,6))\n",
    "\n",
    "plt.subplot(1,2,1)\n",
    "original_thinness_5to9_years = df_limpio[' thinness 5-9 years']\n",
    "plt.boxplot(original_thinness_5to9_years)\n",
    "plt.title(\"Original thinness 5 to 9 years\")\n",
    "\n",
    "plt.subplot(1,2,2)\n",
    "winsorized_thinness_5to9_years = winsorize(df_limpio[' thinness 5-9 years'],(0,0.05))\n",
    "plt.boxplot(winsorized_thinness_5to9_years)\n",
    "plt.title(\"Winsorized thinness 5 to 9 years\")\n",
    "\n",
    "plt.show()"
   ]
  },
  {
   "cell_type": "code",
   "execution_count": 60,
   "id": "ee4c48a4-dddf-44c9-a5a5-a008ef6b4aaa",
   "metadata": {},
   "outputs": [
    {
     "data": {
      "image/png": "[encoded data removed]",
      "text/plain": [
       "<Figure size 1296x432 with 2 Axes>"
      ]
     },
     "metadata": {
      "needs_background": "light"
     },
     "output_type": "display_data"
    }
   ],
   "source": [
    "plt.figure(figsize=(18,6))\n",
    "\n",
    "plt.subplot(1,2,1)\n",
    "original_Income_Comp_Of_Resources = df_limpio['Income composition of resources']\n",
    "plt.boxplot(original_Income_Comp_Of_Resources)\n",
    "plt.title(\"Original Income Comp Of Resources\")\n",
    "\n",
    "plt.subplot(1,2,2)\n",
    "winsorized_Income_Comp_Of_Resources = winsorize(df_limpio['Income composition of resources'],(0.07,0))\n",
    "plt.boxplot(winsorized_Income_Comp_Of_Resources)\n",
    "plt.title(\"Winsorized Income Comp Of Resources\")\n",
    "\n",
    "plt.show()"
   ]
  },
  {
   "cell_type": "code",
   "execution_count": 61,
   "id": "8781c9f3-063e-44ea-a4e6-5339240566e0",
   "metadata": {},
   "outputs": [
    {
     "data": {
      "image/png": "[encoded data removed]",
      "text/plain": [
       "<Figure size 1296x432 with 2 Axes>"
      ]
     },
     "metadata": {
      "needs_background": "light"
     },
     "output_type": "display_data"
    }
   ],
   "source": [
    "plt.figure(figsize=(18,6))\n",
    "\n",
    "plt.subplot(1,2,1)\n",
    "original_Schooling = df_limpio['Schooling']\n",
    "plt.boxplot(original_Schooling)\n",
    "plt.title(\"Original Schooling\")\n",
    "\n",
    "plt.subplot(1,2,2)\n",
    "winsorized_Schooling = winsorize(df_limpio['Schooling'],(0.03,0.01))\n",
    "plt.boxplot(winsorized_Schooling)\n",
    "plt.title(\"Winsorized Schooling\")\n",
    "\n",
    "plt.show()"
   ]
  },
  {
   "cell_type": "code",
   "execution_count": null,
   "id": "c59683d7-3f9c-4888-9e58-ab2564f51f4d",
   "metadata": {},
   "outputs": [],
   "source": []
  },
  {
   "cell_type": "markdown",
   "id": "c81c1860-9fe5-4d8d-b7a6-a1eebf4cbd06",
   "metadata": {},
   "source": [
    "### Creando un dataframe con las columnas sin valores atípicos"
   ]
  },
  {
   "cell_type": "code",
   "execution_count": 63,
   "id": "028543a9-90b3-4c53-aefa-28f7c23d44ce",
   "metadata": {},
   "outputs": [],
   "source": [
    "df_sin_atipicos = pd.DataFrame()\n",
    "df_sin_atipicos = df_limpio.copy()\n",
    "df_sin_atipicos['winsorized_Life_Expectancy'] = winsorized_Life_Expectancy\n",
    "df_sin_atipicos['winsorized_Adult_Mortality'] = winsorized_Adult_Mortality\n",
    "df_sin_atipicos['winsorized_Infant_Deaths'] = winsorized_Infant_Deaths\n",
    "df_sin_atipicos['winsorized_Alcohol'] = winsorized_Alcohol\n",
    "df_sin_atipicos['winsorized_Percentage_Exp'] = winsorized_Percentage_Exp\n",
    "df_sin_atipicos['winsorized_HepatitisB'] = winsorized_HepatitisB\n",
    "df_sin_atipicos['winsorized_Under_Five_Deaths'] = winsorized_Under_Five_Deaths\n",
    "df_sin_atipicos['winsorized_Polio'] = winsorized_Polio\n",
    "df_sin_atipicos['winsorized_Tot_Exp'] = winsorized_Tot_Exp\n",
    "df_sin_atipicos['winsorized_Diphtheria'] = winsorized_Diphtheria\n",
    "df_sin_atipicos['winsorized_HIV'] = winsorized_HIV\n",
    "df_sin_atipicos['winsorized_GDP'] = winsorized_GDP\n",
    "df_sin_atipicos['winsorized_Population'] = winsorized_Population\n",
    "df_sin_atipicos['winsorized_thinness_1to19_years'] = winsorized_thinness_1to19_years\n",
    "df_sin_atipicos['winsorized_thinness_5to9_years'] = winsorized_thinness_5to9_years\n",
    "df_sin_atipicos['winsorized_Income_Comp_Of_Resources'] = winsorized_Income_Comp_Of_Resources\n",
    "df_sin_atipicos['winsorized_Schooling'] = winsorized_Schooling\n",
    "df_sin_atipicos['winsorized_Measles'] = winsorized_Measles"
   ]
  },
  {
   "cell_type": "code",
   "execution_count": 66,
   "id": "16f2ad85-39da-4f17-9db2-33f9cf7e1fc0",
   "metadata": {},
   "outputs": [
    {
     "data": {
      "text/html": [
       "<div>\n",
       "<style scoped>\n",
       "    .dataframe tbody tr th:only-of-type {\n",
       "        vertical-align: middle;\n",
       "    }\n",
       "\n",
       "    .dataframe tbody tr th {\n",
       "        vertical-align: top;\n",
       "    }\n",
       "\n",
       "    .dataframe thead th {\n",
       "        text-align: right;\n",
       "    }\n",
       "</style>\n",
       "<table border=\"1\" class=\"dataframe\">\n",
       "  <thead>\n",
       "    <tr style=\"text-align: right;\">\n",
       "      <th></th>\n",
       "      <th>Year</th>\n",
       "      <th>Life expectancy</th>\n",
       "      <th>Adult Mortality</th>\n",
       "      <th>infant deaths</th>\n",
       "      <th>Alcohol</th>\n",
       "      <th>percentage expenditure</th>\n",
       "      <th>Hepatitis B</th>\n",
       "      <th>Measles</th>\n",
       "      <th>BMI</th>\n",
       "      <th>under-five deaths</th>\n",
       "      <th>...</th>\n",
       "      <th>winsorized_Tot_Exp</th>\n",
       "      <th>winsorized_Diphtheria</th>\n",
       "      <th>winsorized_HIV</th>\n",
       "      <th>winsorized_GDP</th>\n",
       "      <th>winsorized_Population</th>\n",
       "      <th>winsorized_thinness_1to19_years</th>\n",
       "      <th>winsorized_thinness_5to9_years</th>\n",
       "      <th>winsorized_Income_Comp_Of_Resources</th>\n",
       "      <th>winsorized_Schooling</th>\n",
       "      <th>winsorized_Measles</th>\n",
       "    </tr>\n",
       "  </thead>\n",
       "  <tbody>\n",
       "    <tr>\n",
       "      <th>count</th>\n",
       "      <td>2938.000000</td>\n",
       "      <td>2938.000000</td>\n",
       "      <td>2938.000000</td>\n",
       "      <td>2938.000000</td>\n",
       "      <td>2938.000000</td>\n",
       "      <td>2938.000000</td>\n",
       "      <td>2938.000000</td>\n",
       "      <td>2938.000000</td>\n",
       "      <td>2938.000000</td>\n",
       "      <td>2938.000000</td>\n",
       "      <td>...</td>\n",
       "      <td>2938.000000</td>\n",
       "      <td>2938.000000</td>\n",
       "      <td>2938.000000</td>\n",
       "      <td>2938.000000</td>\n",
       "      <td>2.938000e+03</td>\n",
       "      <td>2938.000000</td>\n",
       "      <td>2938.000000</td>\n",
       "      <td>2938.000000</td>\n",
       "      <td>2938.000000</td>\n",
       "      <td>2938.000000</td>\n",
       "    </tr>\n",
       "    <tr>\n",
       "      <th>mean</th>\n",
       "      <td>2007.518720</td>\n",
       "      <td>69.234717</td>\n",
       "      <td>164.725664</td>\n",
       "      <td>30.303948</td>\n",
       "      <td>4.546875</td>\n",
       "      <td>738.251295</td>\n",
       "      <td>83.022124</td>\n",
       "      <td>2419.592240</td>\n",
       "      <td>38.381178</td>\n",
       "      <td>42.035739</td>\n",
       "      <td>...</td>\n",
       "      <td>5.888475</td>\n",
       "      <td>87.118448</td>\n",
       "      <td>0.262151</td>\n",
       "      <td>2505.735502</td>\n",
       "      <td>2.199222e+06</td>\n",
       "      <td>4.623587</td>\n",
       "      <td>4.630191</td>\n",
       "      <td>0.646294</td>\n",
       "      <td>12.068380</td>\n",
       "      <td>100.518720</td>\n",
       "    </tr>\n",
       "    <tr>\n",
       "      <th>std</th>\n",
       "      <td>4.613841</td>\n",
       "      <td>9.509115</td>\n",
       "      <td>124.086215</td>\n",
       "      <td>117.926501</td>\n",
       "      <td>3.921946</td>\n",
       "      <td>1987.914858</td>\n",
       "      <td>22.996984</td>\n",
       "      <td>11467.272489</td>\n",
       "      <td>19.935375</td>\n",
       "      <td>160.445548</td>\n",
       "      <td>...</td>\n",
       "      <td>2.284703</td>\n",
       "      <td>12.069693</td>\n",
       "      <td>0.220865</td>\n",
       "      <td>2108.556312</td>\n",
       "      <td>2.095995e+06</td>\n",
       "      <td>3.769187</td>\n",
       "      <td>3.781232</td>\n",
       "      <td>0.165581</td>\n",
       "      <td>3.060397</td>\n",
       "      <td>125.567687</td>\n",
       "    </tr>\n",
       "    <tr>\n",
       "      <th>min</th>\n",
       "      <td>2000.000000</td>\n",
       "      <td>36.300000</td>\n",
       "      <td>1.000000</td>\n",
       "      <td>0.000000</td>\n",
       "      <td>0.010000</td>\n",
       "      <td>0.000000</td>\n",
       "      <td>1.000000</td>\n",
       "      <td>0.000000</td>\n",
       "      <td>1.000000</td>\n",
       "      <td>0.000000</td>\n",
       "      <td>...</td>\n",
       "      <td>0.370000</td>\n",
       "      <td>65.000000</td>\n",
       "      <td>0.100000</td>\n",
       "      <td>1.681350</td>\n",
       "      <td>3.400000e+01</td>\n",
       "      <td>0.100000</td>\n",
       "      <td>0.100000</td>\n",
       "      <td>0.341000</td>\n",
       "      <td>5.100000</td>\n",
       "      <td>0.000000</td>\n",
       "    </tr>\n",
       "    <tr>\n",
       "      <th>25%</th>\n",
       "      <td>2004.000000</td>\n",
       "      <td>63.200000</td>\n",
       "      <td>74.000000</td>\n",
       "      <td>0.000000</td>\n",
       "      <td>1.092500</td>\n",
       "      <td>4.685343</td>\n",
       "      <td>82.000000</td>\n",
       "      <td>0.000000</td>\n",
       "      <td>19.400000</td>\n",
       "      <td>0.000000</td>\n",
       "      <td>...</td>\n",
       "      <td>4.370000</td>\n",
       "      <td>78.000000</td>\n",
       "      <td>0.100000</td>\n",
       "      <td>580.486996</td>\n",
       "      <td>4.189172e+05</td>\n",
       "      <td>1.600000</td>\n",
       "      <td>1.600000</td>\n",
       "      <td>0.504250</td>\n",
       "      <td>10.300000</td>\n",
       "      <td>0.000000</td>\n",
       "    </tr>\n",
       "    <tr>\n",
       "      <th>50%</th>\n",
       "      <td>2008.000000</td>\n",
       "      <td>72.100000</td>\n",
       "      <td>144.000000</td>\n",
       "      <td>3.000000</td>\n",
       "      <td>3.755000</td>\n",
       "      <td>64.912906</td>\n",
       "      <td>92.000000</td>\n",
       "      <td>17.000000</td>\n",
       "      <td>43.500000</td>\n",
       "      <td>4.000000</td>\n",
       "      <td>...</td>\n",
       "      <td>5.755000</td>\n",
       "      <td>93.000000</td>\n",
       "      <td>0.100000</td>\n",
       "      <td>1766.947595</td>\n",
       "      <td>1.386542e+06</td>\n",
       "      <td>3.300000</td>\n",
       "      <td>3.300000</td>\n",
       "      <td>0.677000</td>\n",
       "      <td>12.300000</td>\n",
       "      <td>17.000000</td>\n",
       "    </tr>\n",
       "    <tr>\n",
       "      <th>75%</th>\n",
       "      <td>2012.000000</td>\n",
       "      <td>75.600000</td>\n",
       "      <td>227.000000</td>\n",
       "      <td>22.000000</td>\n",
       "      <td>7.390000</td>\n",
       "      <td>441.534144</td>\n",
       "      <td>96.000000</td>\n",
       "      <td>360.250000</td>\n",
       "      <td>56.100000</td>\n",
       "      <td>28.000000</td>\n",
       "      <td>...</td>\n",
       "      <td>7.330000</td>\n",
       "      <td>97.000000</td>\n",
       "      <td>0.600000</td>\n",
       "      <td>4779.405190</td>\n",
       "      <td>4.584371e+06</td>\n",
       "      <td>7.100000</td>\n",
       "      <td>7.200000</td>\n",
       "      <td>0.772000</td>\n",
       "      <td>14.100000</td>\n",
       "      <td>290.000000</td>\n",
       "    </tr>\n",
       "    <tr>\n",
       "      <th>max</th>\n",
       "      <td>2015.000000</td>\n",
       "      <td>89.000000</td>\n",
       "      <td>723.000000</td>\n",
       "      <td>1800.000000</td>\n",
       "      <td>17.870000</td>\n",
       "      <td>19479.911610</td>\n",
       "      <td>99.000000</td>\n",
       "      <td>212183.000000</td>\n",
       "      <td>87.300000</td>\n",
       "      <td>2500.000000</td>\n",
       "      <td>...</td>\n",
       "      <td>11.660000</td>\n",
       "      <td>99.000000</td>\n",
       "      <td>0.600000</td>\n",
       "      <td>5714.479370</td>\n",
       "      <td>5.534598e+06</td>\n",
       "      <td>13.800000</td>\n",
       "      <td>13.800000</td>\n",
       "      <td>0.948000</td>\n",
       "      <td>19.000000</td>\n",
       "      <td>290.000000</td>\n",
       "    </tr>\n",
       "  </tbody>\n",
       "</table>\n",
       "<p>8 rows × 38 columns</p>\n",
       "</div>"
      ],
      "text/plain": [
       "              Year  Life expectancy   Adult Mortality  infant deaths  \\\n",
       "count  2938.000000       2938.000000      2938.000000    2938.000000   \n",
       "mean   2007.518720         69.234717       164.725664      30.303948   \n",
       "std       4.613841          9.509115       124.086215     117.926501   \n",
       "min    2000.000000         36.300000         1.000000       0.000000   \n",
       "25%    2004.000000         63.200000        74.000000       0.000000   \n",
       "50%    2008.000000         72.100000       144.000000       3.000000   \n",
       "75%    2012.000000         75.600000       227.000000      22.000000   \n",
       "max    2015.000000         89.000000       723.000000    1800.000000   \n",
       "\n",
       "           Alcohol  percentage expenditure  Hepatitis B       Measles   \\\n",
       "count  2938.000000             2938.000000  2938.000000    2938.000000   \n",
       "mean      4.546875              738.251295    83.022124    2419.592240   \n",
       "std       3.921946             1987.914858    22.996984   11467.272489   \n",
       "min       0.010000                0.000000     1.000000       0.000000   \n",
       "25%       1.092500                4.685343    82.000000       0.000000   \n",
       "50%       3.755000               64.912906    92.000000      17.000000   \n",
       "75%       7.390000              441.534144    96.000000     360.250000   \n",
       "max      17.870000            19479.911610    99.000000  212183.000000   \n",
       "\n",
       "              BMI   under-five deaths   ...  winsorized_Tot_Exp  \\\n",
       "count  2938.000000         2938.000000  ...         2938.000000   \n",
       "mean     38.381178           42.035739  ...            5.888475   \n",
       "std      19.935375          160.445548  ...            2.284703   \n",
       "min       1.000000            0.000000  ...            0.370000   \n",
       "25%      19.400000            0.000000  ...            4.370000   \n",
       "50%      43.500000            4.000000  ...            5.755000   \n",
       "75%      56.100000           28.000000  ...            7.330000   \n",
       "max      87.300000         2500.000000  ...           11.660000   \n",
       "\n",
       "       winsorized_Diphtheria  winsorized_HIV  winsorized_GDP  \\\n",
       "count            2938.000000     2938.000000     2938.000000   \n",
       "mean               87.118448        0.262151     2505.735502   \n",
       "std                12.069693        0.220865     2108.556312   \n",
       "min                65.000000        0.100000        1.681350   \n",
       "25%                78.000000        0.100000      580.486996   \n",
       "50%                93.000000        0.100000     1766.947595   \n",
       "75%                97.000000        0.600000     4779.405190   \n",
       "max                99.000000        0.600000     5714.479370   \n",
       "\n",
       "       winsorized_Population  winsorized_thinness_1to19_years  \\\n",
       "count           2.938000e+03                      2938.000000   \n",
       "mean            2.199222e+06                         4.623587   \n",
       "std             2.095995e+06                         3.769187   \n",
       "min             3.400000e+01                         0.100000   \n",
       "25%             4.189172e+05                         1.600000   \n",
       "50%             1.386542e+06                         3.300000   \n",
       "75%             4.584371e+06                         7.100000   \n",
       "max             5.534598e+06                        13.800000   \n",
       "\n",
       "       winsorized_thinness_5to9_years  winsorized_Income_Comp_Of_Resources  \\\n",
       "count                     2938.000000                          2938.000000   \n",
       "mean                         4.630191                             0.646294   \n",
       "std                          3.781232                             0.165581   \n",
       "min                          0.100000                             0.341000   \n",
       "25%                          1.600000                             0.504250   \n",
       "50%                          3.300000                             0.677000   \n",
       "75%                          7.200000                             0.772000   \n",
       "max                         13.800000                             0.948000   \n",
       "\n",
       "       winsorized_Schooling  winsorized_Measles  \n",
       "count           2938.000000         2938.000000  \n",
       "mean              12.068380          100.518720  \n",
       "std                3.060397          125.567687  \n",
       "min                5.100000            0.000000  \n",
       "25%               10.300000            0.000000  \n",
       "50%               12.300000           17.000000  \n",
       "75%               14.100000          290.000000  \n",
       "max               19.000000          290.000000  \n",
       "\n",
       "[8 rows x 38 columns]"
      ]
     },
     "execution_count": 66,
     "metadata": {},
     "output_type": "execute_result"
    }
   ],
   "source": [
    "df_sin_atipicos.describe()"
   ]
  },
  {
   "cell_type": "markdown",
   "id": "599f896d-38fa-4eeb-b059-34587f7b0836",
   "metadata": {},
   "source": [
    "# Histogramas"
   ]
  },
  {
   "cell_type": "markdown",
   "id": "ca30f36f-bf4d-4ace-b79f-a604e2cb0b63",
   "metadata": {},
   "source": [
    "### Los histogramas son útiles para visualizar la forma de la distribución de una variable y para detectar patrones o tendencias en los datos."
   ]
  },
  {
   "cell_type": "markdown",
   "id": "1512d02d-e3c5-400d-8712-e88947abe529",
   "metadata": {},
   "source": [
    "### Se muestran los histogramas con y sin los valores atípicos."
   ]
  },
  {
   "cell_type": "code",
   "execution_count": 67,
   "id": "a6634298-63a8-495e-b7c1-d6fd189ec8c6",
   "metadata": {},
   "outputs": [
    {
     "data": {
      "image/png": "[encoded data removed]",
      "text/plain": [
       "<Figure size 1080x5400 with 34 Axes>"
      ]
     },
     "metadata": {
      "needs_background": "light"
     },
     "output_type": "display_data"
    }
   ],
   "source": [
    "columnas_de_uso = ['Life expectancy ','winsorized_Life_Expectancy','Adult Mortality','winsorized_Adult_Mortality','infant deaths',\n",
    "         'winsorized_Infant_Deaths','Alcohol','winsorized_Alcohol','percentage expenditure','winsorized_Percentage_Exp','Hepatitis B',\n",
    "         'winsorized_HepatitisB','under-five deaths ','winsorized_Under_Five_Deaths','Polio','winsorized_Polio','Total expenditure',\n",
    "         'winsorized_Tot_Exp','Diphtheria ','winsorized_Diphtheria',' HIV/AIDS','winsorized_HIV','GDP','winsorized_GDP',\n",
    "         'Population','winsorized_Population',' thinness  1-19 years','winsorized_thinness_1to19_years',' thinness 5-9 years',\n",
    "         'winsorized_thinness_5to9_years','Income composition of resources','winsorized_Income_Comp_Of_Resources',\n",
    "         'Schooling','winsorized_Schooling']\n",
    "\n",
    "plt.figure(figsize=(15,75))\n",
    "\n",
    "for i in range(len(columnas_de_uso)):\n",
    "    plt.subplot(18,2,i+1)\n",
    "    plt.hist(df_sin_atipicos[columnas_de_uso[i]])\n",
    "    plt.title(columnas_de_uso[i])\n",
    "\n",
    "plt.show()"
   ]
  },
  {
   "cell_type": "markdown",
   "id": "1c4bb6f8-05ad-4369-8f91-798bc7ebe141",
   "metadata": {},
   "source": [
    "## Podemos notar que en winsorized_Schooling, winsorized_Tot_Exp y winsorized_Life_Expectancy los datos están bastante normalizados."
   ]
  },
  {
   "cell_type": "code",
   "execution_count": null,
   "id": "fa560145-4e30-4536-b6f8-7eddeab6efce",
   "metadata": {},
   "outputs": [],
   "source": []
  },
  {
   "cell_type": "markdown",
   "id": "10e68dac-4677-4b7c-9f06-168ba4a1b42b",
   "metadata": {},
   "source": [
    "## Varianza\n",
    "\n",
    "### Cálculo de la varianza y desviación estandar para Life Expectancy:"
   ]
  },
  {
   "cell_type": "code",
   "execution_count": 68,
   "id": "eef4f843-8b0b-4e48-a4b7-f88a0036b689",
   "metadata": {},
   "outputs": [
    {
     "data": {
      "text/plain": [
       "102.0605387523631"
      ]
     },
     "execution_count": 68,
     "metadata": {},
     "output_type": "execute_result"
    }
   ],
   "source": [
    "np.var(df_sin_atipicos.loc[0:735,'Life expectancy '])"
   ]
  },
  {
   "cell_type": "code",
   "execution_count": 69,
   "id": "26baabe2-790f-40a0-9743-4e5546250321",
   "metadata": {},
   "outputs": [
    {
     "data": {
      "text/plain": [
       "73.8281975843399"
      ]
     },
     "execution_count": 69,
     "metadata": {},
     "output_type": "execute_result"
    }
   ],
   "source": [
    "np.var(df_sin_atipicos.loc[736:1470,'Life expectancy '])"
   ]
  },
  {
   "cell_type": "code",
   "execution_count": 70,
   "id": "6b21da2f-28fc-4bfe-929b-414d9799ae84",
   "metadata": {},
   "outputs": [
    {
     "data": {
      "text/plain": [
       "86.85726777984834"
      ]
     },
     "execution_count": 70,
     "metadata": {},
     "output_type": "execute_result"
    }
   ],
   "source": [
    "np.var(df_sin_atipicos.loc[1471:2204,'Life expectancy '])"
   ]
  },
  {
   "cell_type": "code",
   "execution_count": 71,
   "id": "74c3f904-ac11-4b4e-99ec-8244b5c6fd62",
   "metadata": {},
   "outputs": [
    {
     "data": {
      "text/plain": [
       "96.9770677977773"
      ]
     },
     "execution_count": 71,
     "metadata": {},
     "output_type": "execute_result"
    }
   ],
   "source": [
    "np.var(df_sin_atipicos.loc[2205:2938,'Life expectancy '])"
   ]
  },
  {
   "cell_type": "code",
   "execution_count": 72,
   "id": "ce24f64a-d2cc-4980-b953-cf70627a8d97",
   "metadata": {},
   "outputs": [
    {
     "data": {
      "text/plain": [
       "10.102501608629572"
      ]
     },
     "execution_count": 72,
     "metadata": {},
     "output_type": "execute_result"
    }
   ],
   "source": [
    "np.std(df_sin_atipicos.loc[0:735,'Life expectancy '])"
   ]
  },
  {
   "cell_type": "markdown",
   "id": "7b21379a-24bf-439c-9b1e-9c94a9d1ff35",
   "metadata": {},
   "source": [
    "## Cálculo de la varianza y desviación estandar de Schooling:"
   ]
  },
  {
   "cell_type": "code",
   "execution_count": 73,
   "id": "589a196a-d007-4556-9a4e-57e0b816e93f",
   "metadata": {},
   "outputs": [
    {
     "data": {
      "text/plain": [
       "11.215714792060517"
      ]
     },
     "execution_count": 73,
     "metadata": {},
     "output_type": "execute_result"
    }
   ],
   "source": [
    "np.var(df_sin_atipicos.loc[0:735,'Schooling'])"
   ]
  },
  {
   "cell_type": "code",
   "execution_count": 74,
   "id": "ef1ba59b-8edd-47c4-80c0-2b7e1dcde999",
   "metadata": {},
   "outputs": [
    {
     "data": {
      "text/plain": [
       "11.964468027210877"
      ]
     },
     "execution_count": 74,
     "metadata": {},
     "output_type": "execute_result"
    }
   ],
   "source": [
    "np.var(df_sin_atipicos.loc[736:1470,'Schooling'])"
   ]
  },
  {
   "cell_type": "code",
   "execution_count": 75,
   "id": "2136850c-bd6a-47f8-92f8-7be26129646b",
   "metadata": {},
   "outputs": [
    {
     "data": {
      "text/plain": [
       "10.719003704831133"
      ]
     },
     "execution_count": 75,
     "metadata": {},
     "output_type": "execute_result"
    }
   ],
   "source": [
    "np.var(df_sin_atipicos.loc[1471:2204,'Schooling'])"
   ]
  },
  {
   "cell_type": "code",
   "execution_count": 76,
   "id": "0d9f38d4-e770-4170-a5c7-7177baeefba4",
   "metadata": {},
   "outputs": [
    {
     "data": {
      "text/plain": [
       "8.532896150861085"
      ]
     },
     "execution_count": 76,
     "metadata": {},
     "output_type": "execute_result"
    }
   ],
   "source": [
    "np.var(df_sin_atipicos.loc[2205:2938,'Schooling'])"
   ]
  },
  {
   "cell_type": "code",
   "execution_count": null,
   "id": "f0fa94e6-2f90-4dd2-99d4-33e27d2c0bd8",
   "metadata": {},
   "outputs": [],
   "source": [
    "np.std(df_sin_atipicos.loc[0:735,'Schooling'])"
   ]
  },
  {
   "cell_type": "markdown",
   "id": "25361b37-1550-42f2-b3d6-b2470b5c7e47",
   "metadata": {},
   "source": [
    "# Analisis de correlacion entre las variables del dataset"
   ]
  },
  {
   "cell_type": "markdown",
   "id": "692a598f-bd92-43f6-9d76-fe05e2f19f93",
   "metadata": {},
   "source": [
    "### El análisis de correlación es un método utilizado para medir la relación entre dos variables. La correlación mide el grado en que dos variables están relacionadas y puede tomar valores entre -1 y 1.\n",
    "### El análisis de correlación se utiliza a menudo para evaluar si hay una relación entre dos variables y para predecir cómo una variable cambiará en función de otra."
   ]
  },
  {
   "cell_type": "code",
   "execution_count": 77,
   "id": "3d3a5b94-7e75-4386-bde2-64db3abfe82a",
   "metadata": {},
   "outputs": [],
   "source": [
    "columns_to_use = ['winsorized_Life_Expectancy','winsorized_Adult_Mortality',\n",
    "         'winsorized_Infant_Deaths','winsorized_Alcohol','winsorized_Measles','winsorized_Percentage_Exp',\n",
    "         'winsorized_HepatitisB','winsorized_Under_Five_Deaths','winsorized_Polio',\n",
    "         'winsorized_Tot_Exp','winsorized_Diphtheria','winsorized_HIV','winsorized_GDP',\n",
    "         'winsorized_Population','winsorized_thinness_1to19_years',\n",
    "         'winsorized_thinness_5to9_years','winsorized_Income_Comp_Of_Resources',\n",
    "         'winsorized_Schooling']"
   ]
  },
  {
   "cell_type": "code",
   "execution_count": 78,
   "id": "10531499-e132-4071-b668-da20bed29311",
   "metadata": {},
   "outputs": [
    {
     "data": {
      "text/html": [
       "<div>\n",
       "<style scoped>\n",
       "    .dataframe tbody tr th:only-of-type {\n",
       "        vertical-align: middle;\n",
       "    }\n",
       "\n",
       "    .dataframe tbody tr th {\n",
       "        vertical-align: top;\n",
       "    }\n",
       "\n",
       "    .dataframe thead th {\n",
       "        text-align: right;\n",
       "    }\n",
       "</style>\n",
       "<table border=\"1\" class=\"dataframe\">\n",
       "  <thead>\n",
       "    <tr style=\"text-align: right;\">\n",
       "      <th></th>\n",
       "      <th>winsorized_Life_Expectancy</th>\n",
       "      <th>winsorized_Adult_Mortality</th>\n",
       "      <th>winsorized_Infant_Deaths</th>\n",
       "      <th>winsorized_Alcohol</th>\n",
       "      <th>winsorized_Measles</th>\n",
       "      <th>winsorized_Percentage_Exp</th>\n",
       "      <th>winsorized_HepatitisB</th>\n",
       "      <th>winsorized_Under_Five_Deaths</th>\n",
       "      <th>winsorized_Polio</th>\n",
       "      <th>winsorized_Tot_Exp</th>\n",
       "      <th>winsorized_Diphtheria</th>\n",
       "      <th>winsorized_HIV</th>\n",
       "      <th>winsorized_GDP</th>\n",
       "      <th>winsorized_Population</th>\n",
       "      <th>winsorized_thinness_1to19_years</th>\n",
       "      <th>winsorized_thinness_5to9_years</th>\n",
       "      <th>winsorized_Income_Comp_Of_Resources</th>\n",
       "      <th>winsorized_Schooling</th>\n",
       "    </tr>\n",
       "  </thead>\n",
       "  <tbody>\n",
       "    <tr>\n",
       "      <th>winsorized_Life_Expectancy</th>\n",
       "      <td>1.000000</td>\n",
       "      <td>-0.690791</td>\n",
       "      <td>-0.585342</td>\n",
       "      <td>0.392643</td>\n",
       "      <td>-0.336060</td>\n",
       "      <td>0.482396</td>\n",
       "      <td>0.275395</td>\n",
       "      <td>-0.619613</td>\n",
       "      <td>0.587173</td>\n",
       "      <td>0.216093</td>\n",
       "      <td>0.591085</td>\n",
       "      <td>-0.773796</td>\n",
       "      <td>0.545245</td>\n",
       "      <td>-0.066396</td>\n",
       "      <td>-0.527094</td>\n",
       "      <td>-0.527397</td>\n",
       "      <td>0.799490</td>\n",
       "      <td>0.740618</td>\n",
       "    </tr>\n",
       "    <tr>\n",
       "      <th>winsorized_Adult_Mortality</th>\n",
       "      <td>-0.690791</td>\n",
       "      <td>1.000000</td>\n",
       "      <td>0.394632</td>\n",
       "      <td>-0.201672</td>\n",
       "      <td>0.213473</td>\n",
       "      <td>-0.314576</td>\n",
       "      <td>-0.206504</td>\n",
       "      <td>0.421457</td>\n",
       "      <td>-0.368300</td>\n",
       "      <td>-0.127373</td>\n",
       "      <td>-0.369742</td>\n",
       "      <td>0.587814</td>\n",
       "      <td>-0.341445</td>\n",
       "      <td>0.079204</td>\n",
       "      <td>0.352287</td>\n",
       "      <td>0.361534</td>\n",
       "      <td>-0.525711</td>\n",
       "      <td>-0.464131</td>\n",
       "    </tr>\n",
       "    <tr>\n",
       "      <th>winsorized_Infant_Deaths</th>\n",
       "      <td>-0.585342</td>\n",
       "      <td>0.394632</td>\n",
       "      <td>1.000000</td>\n",
       "      <td>-0.343761</td>\n",
       "      <td>0.569932</td>\n",
       "      <td>-0.377330</td>\n",
       "      <td>-0.320748</td>\n",
       "      <td>0.985851</td>\n",
       "      <td>-0.457103</td>\n",
       "      <td>-0.154880</td>\n",
       "      <td>-0.453238</td>\n",
       "      <td>0.435169</td>\n",
       "      <td>-0.406842</td>\n",
       "      <td>0.319594</td>\n",
       "      <td>0.442393</td>\n",
       "      <td>0.456891</td>\n",
       "      <td>-0.506345</td>\n",
       "      <td>-0.530708</td>\n",
       "    </tr>\n",
       "    <tr>\n",
       "      <th>winsorized_Alcohol</th>\n",
       "      <td>0.392643</td>\n",
       "      <td>-0.201672</td>\n",
       "      <td>-0.343761</td>\n",
       "      <td>1.000000</td>\n",
       "      <td>-0.201350</td>\n",
       "      <td>0.374370</td>\n",
       "      <td>0.149457</td>\n",
       "      <td>-0.359155</td>\n",
       "      <td>0.284179</td>\n",
       "      <td>0.308352</td>\n",
       "      <td>0.294701</td>\n",
       "      <td>-0.242268</td>\n",
       "      <td>0.393803</td>\n",
       "      <td>0.020977</td>\n",
       "      <td>-0.438428</td>\n",
       "      <td>-0.430123</td>\n",
       "      <td>0.489420</td>\n",
       "      <td>0.521397</td>\n",
       "    </tr>\n",
       "    <tr>\n",
       "      <th>winsorized_Measles</th>\n",
       "      <td>-0.336060</td>\n",
       "      <td>0.213473</td>\n",
       "      <td>0.569932</td>\n",
       "      <td>-0.201350</td>\n",
       "      <td>1.000000</td>\n",
       "      <td>-0.208931</td>\n",
       "      <td>-0.220138</td>\n",
       "      <td>0.561252</td>\n",
       "      <td>-0.322359</td>\n",
       "      <td>-0.152592</td>\n",
       "      <td>-0.324879</td>\n",
       "      <td>0.238138</td>\n",
       "      <td>-0.227671</td>\n",
       "      <td>0.229296</td>\n",
       "      <td>0.361710</td>\n",
       "      <td>0.368291</td>\n",
       "      <td>-0.273389</td>\n",
       "      <td>-0.321029</td>\n",
       "    </tr>\n",
       "    <tr>\n",
       "      <th>winsorized_Percentage_Exp</th>\n",
       "      <td>0.482396</td>\n",
       "      <td>-0.314576</td>\n",
       "      <td>-0.377330</td>\n",
       "      <td>0.374370</td>\n",
       "      <td>-0.208931</td>\n",
       "      <td>1.000000</td>\n",
       "      <td>0.151131</td>\n",
       "      <td>-0.399290</td>\n",
       "      <td>0.289190</td>\n",
       "      <td>0.182879</td>\n",
       "      <td>0.297199</td>\n",
       "      <td>-0.327366</td>\n",
       "      <td>0.829866</td>\n",
       "      <td>0.004599</td>\n",
       "      <td>-0.332174</td>\n",
       "      <td>-0.333940</td>\n",
       "      <td>0.544565</td>\n",
       "      <td>0.528218</td>\n",
       "    </tr>\n",
       "    <tr>\n",
       "      <th>winsorized_HepatitisB</th>\n",
       "      <td>0.275395</td>\n",
       "      <td>-0.206504</td>\n",
       "      <td>-0.320748</td>\n",
       "      <td>0.149457</td>\n",
       "      <td>-0.220138</td>\n",
       "      <td>0.151131</td>\n",
       "      <td>1.000000</td>\n",
       "      <td>-0.322029</td>\n",
       "      <td>0.595555</td>\n",
       "      <td>0.066644</td>\n",
       "      <td>0.618007</td>\n",
       "      <td>-0.240829</td>\n",
       "      <td>0.203436</td>\n",
       "      <td>-0.120732</td>\n",
       "      <td>-0.122274</td>\n",
       "      <td>-0.131153</td>\n",
       "      <td>0.272720</td>\n",
       "      <td>0.252929</td>\n",
       "    </tr>\n",
       "    <tr>\n",
       "      <th>winsorized_Under_Five_Deaths</th>\n",
       "      <td>-0.619613</td>\n",
       "      <td>0.421457</td>\n",
       "      <td>0.985851</td>\n",
       "      <td>-0.359155</td>\n",
       "      <td>0.561252</td>\n",
       "      <td>-0.399290</td>\n",
       "      <td>-0.322029</td>\n",
       "      <td>1.000000</td>\n",
       "      <td>-0.471238</td>\n",
       "      <td>-0.155514</td>\n",
       "      <td>-0.464713</td>\n",
       "      <td>0.475974</td>\n",
       "      <td>-0.435057</td>\n",
       "      <td>0.320466</td>\n",
       "      <td>0.459313</td>\n",
       "      <td>0.470905</td>\n",
       "      <td>-0.548523</td>\n",
       "      <td>-0.565581</td>\n",
       "    </tr>\n",
       "    <tr>\n",
       "      <th>winsorized_Polio</th>\n",
       "      <td>0.587173</td>\n",
       "      <td>-0.368300</td>\n",
       "      <td>-0.457103</td>\n",
       "      <td>0.284179</td>\n",
       "      <td>-0.322359</td>\n",
       "      <td>0.289190</td>\n",
       "      <td>0.595555</td>\n",
       "      <td>-0.471238</td>\n",
       "      <td>1.000000</td>\n",
       "      <td>0.164396</td>\n",
       "      <td>0.899107</td>\n",
       "      <td>-0.486280</td>\n",
       "      <td>0.364801</td>\n",
       "      <td>-0.091432</td>\n",
       "      <td>-0.308328</td>\n",
       "      <td>-0.308693</td>\n",
       "      <td>0.538721</td>\n",
       "      <td>0.521349</td>\n",
       "    </tr>\n",
       "    <tr>\n",
       "      <th>winsorized_Tot_Exp</th>\n",
       "      <td>0.216093</td>\n",
       "      <td>-0.127373</td>\n",
       "      <td>-0.154880</td>\n",
       "      <td>0.308352</td>\n",
       "      <td>-0.152592</td>\n",
       "      <td>0.182879</td>\n",
       "      <td>0.066644</td>\n",
       "      <td>-0.155514</td>\n",
       "      <td>0.164396</td>\n",
       "      <td>1.000000</td>\n",
       "      <td>0.175464</td>\n",
       "      <td>-0.128050</td>\n",
       "      <td>0.127185</td>\n",
       "      <td>-0.031148</td>\n",
       "      <td>-0.291124</td>\n",
       "      <td>-0.302515</td>\n",
       "      <td>0.183424</td>\n",
       "      <td>0.252422</td>\n",
       "    </tr>\n",
       "    <tr>\n",
       "      <th>winsorized_Diphtheria</th>\n",
       "      <td>0.591085</td>\n",
       "      <td>-0.369742</td>\n",
       "      <td>-0.453238</td>\n",
       "      <td>0.294701</td>\n",
       "      <td>-0.324879</td>\n",
       "      <td>0.297199</td>\n",
       "      <td>0.618007</td>\n",
       "      <td>-0.464713</td>\n",
       "      <td>0.899107</td>\n",
       "      <td>0.175464</td>\n",
       "      <td>1.000000</td>\n",
       "      <td>-0.470794</td>\n",
       "      <td>0.364916</td>\n",
       "      <td>-0.079726</td>\n",
       "      <td>-0.314504</td>\n",
       "      <td>-0.313172</td>\n",
       "      <td>0.535503</td>\n",
       "      <td>0.522119</td>\n",
       "    </tr>\n",
       "    <tr>\n",
       "      <th>winsorized_HIV</th>\n",
       "      <td>-0.773796</td>\n",
       "      <td>0.587814</td>\n",
       "      <td>0.435169</td>\n",
       "      <td>-0.242268</td>\n",
       "      <td>0.238138</td>\n",
       "      <td>-0.327366</td>\n",
       "      <td>-0.240829</td>\n",
       "      <td>0.475974</td>\n",
       "      <td>-0.486280</td>\n",
       "      <td>-0.128050</td>\n",
       "      <td>-0.470794</td>\n",
       "      <td>1.000000</td>\n",
       "      <td>-0.413606</td>\n",
       "      <td>0.066723</td>\n",
       "      <td>0.415870</td>\n",
       "      <td>0.400286</td>\n",
       "      <td>-0.629985</td>\n",
       "      <td>-0.587927</td>\n",
       "    </tr>\n",
       "    <tr>\n",
       "      <th>winsorized_GDP</th>\n",
       "      <td>0.545245</td>\n",
       "      <td>-0.341445</td>\n",
       "      <td>-0.406842</td>\n",
       "      <td>0.393803</td>\n",
       "      <td>-0.227671</td>\n",
       "      <td>0.829866</td>\n",
       "      <td>0.203436</td>\n",
       "      <td>-0.435057</td>\n",
       "      <td>0.364801</td>\n",
       "      <td>0.127185</td>\n",
       "      <td>0.364916</td>\n",
       "      <td>-0.413606</td>\n",
       "      <td>1.000000</td>\n",
       "      <td>-0.027155</td>\n",
       "      <td>-0.355042</td>\n",
       "      <td>-0.358348</td>\n",
       "      <td>0.640564</td>\n",
       "      <td>0.616168</td>\n",
       "    </tr>\n",
       "    <tr>\n",
       "      <th>winsorized_Population</th>\n",
       "      <td>-0.066396</td>\n",
       "      <td>0.079204</td>\n",
       "      <td>0.319594</td>\n",
       "      <td>0.020977</td>\n",
       "      <td>0.229296</td>\n",
       "      <td>0.004599</td>\n",
       "      <td>-0.120732</td>\n",
       "      <td>0.320466</td>\n",
       "      <td>-0.091432</td>\n",
       "      <td>-0.031148</td>\n",
       "      <td>-0.079726</td>\n",
       "      <td>0.066723</td>\n",
       "      <td>-0.027155</td>\n",
       "      <td>1.000000</td>\n",
       "      <td>0.039282</td>\n",
       "      <td>0.048920</td>\n",
       "      <td>-0.049340</td>\n",
       "      <td>-0.057419</td>\n",
       "    </tr>\n",
       "    <tr>\n",
       "      <th>winsorized_thinness_1to19_years</th>\n",
       "      <td>-0.527094</td>\n",
       "      <td>0.352287</td>\n",
       "      <td>0.442393</td>\n",
       "      <td>-0.438428</td>\n",
       "      <td>0.361710</td>\n",
       "      <td>-0.332174</td>\n",
       "      <td>-0.122274</td>\n",
       "      <td>0.459313</td>\n",
       "      <td>-0.308328</td>\n",
       "      <td>-0.291124</td>\n",
       "      <td>-0.314504</td>\n",
       "      <td>0.415870</td>\n",
       "      <td>-0.355042</td>\n",
       "      <td>0.039282</td>\n",
       "      <td>1.000000</td>\n",
       "      <td>0.941943</td>\n",
       "      <td>-0.513467</td>\n",
       "      <td>-0.497256</td>\n",
       "    </tr>\n",
       "    <tr>\n",
       "      <th>winsorized_thinness_5to9_years</th>\n",
       "      <td>-0.527397</td>\n",
       "      <td>0.361534</td>\n",
       "      <td>0.456891</td>\n",
       "      <td>-0.430123</td>\n",
       "      <td>0.368291</td>\n",
       "      <td>-0.333940</td>\n",
       "      <td>-0.131153</td>\n",
       "      <td>0.470905</td>\n",
       "      <td>-0.308693</td>\n",
       "      <td>-0.302515</td>\n",
       "      <td>-0.313172</td>\n",
       "      <td>0.400286</td>\n",
       "      <td>-0.358348</td>\n",
       "      <td>0.048920</td>\n",
       "      <td>0.941943</td>\n",
       "      <td>1.000000</td>\n",
       "      <td>-0.506154</td>\n",
       "      <td>-0.491216</td>\n",
       "    </tr>\n",
       "    <tr>\n",
       "      <th>winsorized_Income_Comp_Of_Resources</th>\n",
       "      <td>0.799490</td>\n",
       "      <td>-0.525711</td>\n",
       "      <td>-0.506345</td>\n",
       "      <td>0.489420</td>\n",
       "      <td>-0.273389</td>\n",
       "      <td>0.544565</td>\n",
       "      <td>0.272720</td>\n",
       "      <td>-0.548523</td>\n",
       "      <td>0.538721</td>\n",
       "      <td>0.183424</td>\n",
       "      <td>0.535503</td>\n",
       "      <td>-0.629985</td>\n",
       "      <td>0.640564</td>\n",
       "      <td>-0.049340</td>\n",
       "      <td>-0.513467</td>\n",
       "      <td>-0.506154</td>\n",
       "      <td>1.000000</td>\n",
       "      <td>0.882292</td>\n",
       "    </tr>\n",
       "    <tr>\n",
       "      <th>winsorized_Schooling</th>\n",
       "      <td>0.740618</td>\n",
       "      <td>-0.464131</td>\n",
       "      <td>-0.530708</td>\n",
       "      <td>0.521397</td>\n",
       "      <td>-0.321029</td>\n",
       "      <td>0.528218</td>\n",
       "      <td>0.252929</td>\n",
       "      <td>-0.565581</td>\n",
       "      <td>0.521349</td>\n",
       "      <td>0.252422</td>\n",
       "      <td>0.522119</td>\n",
       "      <td>-0.587927</td>\n",
       "      <td>0.616168</td>\n",
       "      <td>-0.057419</td>\n",
       "      <td>-0.497256</td>\n",
       "      <td>-0.491216</td>\n",
       "      <td>0.882292</td>\n",
       "      <td>1.000000</td>\n",
       "    </tr>\n",
       "  </tbody>\n",
       "</table>\n",
       "</div>"
      ],
      "text/plain": [
       "                                     winsorized_Life_Expectancy  \\\n",
       "winsorized_Life_Expectancy                             1.000000   \n",
       "winsorized_Adult_Mortality                            -0.690791   \n",
       "winsorized_Infant_Deaths                              -0.585342   \n",
       "winsorized_Alcohol                                     0.392643   \n",
       "winsorized_Measles                                    -0.336060   \n",
       "winsorized_Percentage_Exp                              0.482396   \n",
       "winsorized_HepatitisB                                  0.275395   \n",
       "winsorized_Under_Five_Deaths                          -0.619613   \n",
       "winsorized_Polio                                       0.587173   \n",
       "winsorized_Tot_Exp                                     0.216093   \n",
       "winsorized_Diphtheria                                  0.591085   \n",
       "winsorized_HIV                                        -0.773796   \n",
       "winsorized_GDP                                         0.545245   \n",
       "winsorized_Population                                 -0.066396   \n",
       "winsorized_thinness_1to19_years                       -0.527094   \n",
       "winsorized_thinness_5to9_years                        -0.527397   \n",
       "winsorized_Income_Comp_Of_Resources                    0.799490   \n",
       "winsorized_Schooling                                   0.740618   \n",
       "\n",
       "                                     winsorized_Adult_Mortality  \\\n",
       "winsorized_Life_Expectancy                            -0.690791   \n",
       "winsorized_Adult_Mortality                             1.000000   \n",
       "winsorized_Infant_Deaths                               0.394632   \n",
       "winsorized_Alcohol                                    -0.201672   \n",
       "winsorized_Measles                                     0.213473   \n",
       "winsorized_Percentage_Exp                             -0.314576   \n",
       "winsorized_HepatitisB                                 -0.206504   \n",
       "winsorized_Under_Five_Deaths                           0.421457   \n",
       "winsorized_Polio                                      -0.368300   \n",
       "winsorized_Tot_Exp                                    -0.127373   \n",
       "winsorized_Diphtheria                                 -0.369742   \n",
       "winsorized_HIV                                         0.587814   \n",
       "winsorized_GDP                                        -0.341445   \n",
       "winsorized_Population                                  0.079204   \n",
       "winsorized_thinness_1to19_years                        0.352287   \n",
       "winsorized_thinness_5to9_years                         0.361534   \n",
       "winsorized_Income_Comp_Of_Resources                   -0.525711   \n",
       "winsorized_Schooling                                  -0.464131   \n",
       "\n",
       "                                     winsorized_Infant_Deaths  \\\n",
       "winsorized_Life_Expectancy                          -0.585342   \n",
       "winsorized_Adult_Mortality                           0.394632   \n",
       "winsorized_Infant_Deaths                             1.000000   \n",
       "winsorized_Alcohol                                  -0.343761   \n",
       "winsorized_Measles                                   0.569932   \n",
       "winsorized_Percentage_Exp                           -0.377330   \n",
       "winsorized_HepatitisB                               -0.320748   \n",
       "winsorized_Under_Five_Deaths                         0.985851   \n",
       "winsorized_Polio                                    -0.457103   \n",
       "winsorized_Tot_Exp                                  -0.154880   \n",
       "winsorized_Diphtheria                               -0.453238   \n",
       "winsorized_HIV                                       0.435169   \n",
       "winsorized_GDP                                      -0.406842   \n",
       "winsorized_Population                                0.319594   \n",
       "winsorized_thinness_1to19_years                      0.442393   \n",
       "winsorized_thinness_5to9_years                       0.456891   \n",
       "winsorized_Income_Comp_Of_Resources                 -0.506345   \n",
       "winsorized_Schooling                                -0.530708   \n",
       "\n",
       "                                     winsorized_Alcohol  winsorized_Measles  \\\n",
       "winsorized_Life_Expectancy                     0.392643           -0.336060   \n",
       "winsorized_Adult_Mortality                    -0.201672            0.213473   \n",
       "winsorized_Infant_Deaths                      -0.343761            0.569932   \n",
       "winsorized_Alcohol                             1.000000           -0.201350   \n",
       "winsorized_Measles                            -0.201350            1.000000   \n",
       "winsorized_Percentage_Exp                      0.374370           -0.208931   \n",
       "winsorized_HepatitisB                          0.149457           -0.220138   \n",
       "winsorized_Under_Five_Deaths                  -0.359155            0.561252   \n",
       "winsorized_Polio                               0.284179           -0.322359   \n",
       "winsorized_Tot_Exp                             0.308352           -0.152592   \n",
       "winsorized_Diphtheria                          0.294701           -0.324879   \n",
       "winsorized_HIV                                -0.242268            0.238138   \n",
       "winsorized_GDP                                 0.393803           -0.227671   \n",
       "winsorized_Population                          0.020977            0.229296   \n",
       "winsorized_thinness_1to19_years               -0.438428            0.361710   \n",
       "winsorized_thinness_5to9_years                -0.430123            0.368291   \n",
       "winsorized_Income_Comp_Of_Resources            0.489420           -0.273389   \n",
       "winsorized_Schooling                           0.521397           -0.321029   \n",
       "\n",
       "                                     winsorized_Percentage_Exp  \\\n",
       "winsorized_Life_Expectancy                            0.482396   \n",
       "winsorized_Adult_Mortality                           -0.314576   \n",
       "winsorized_Infant_Deaths                             -0.377330   \n",
       "winsorized_Alcohol                                    0.374370   \n",
       "winsorized_Measles                                   -0.208931   \n",
       "winsorized_Percentage_Exp                             1.000000   \n",
       "winsorized_HepatitisB                                 0.151131   \n",
       "winsorized_Under_Five_Deaths                         -0.399290   \n",
       "winsorized_Polio                                      0.289190   \n",
       "winsorized_Tot_Exp                                    0.182879   \n",
       "winsorized_Diphtheria                                 0.297199   \n",
       "winsorized_HIV                                       -0.327366   \n",
       "winsorized_GDP                                        0.829866   \n",
       "winsorized_Population                                 0.004599   \n",
       "winsorized_thinness_1to19_years                      -0.332174   \n",
       "winsorized_thinness_5to9_years                       -0.333940   \n",
       "winsorized_Income_Comp_Of_Resources                   0.544565   \n",
       "winsorized_Schooling                                  0.528218   \n",
       "\n",
       "                                     winsorized_HepatitisB  \\\n",
       "winsorized_Life_Expectancy                        0.275395   \n",
       "winsorized_Adult_Mortality                       -0.206504   \n",
       "winsorized_Infant_Deaths                         -0.320748   \n",
       "winsorized_Alcohol                                0.149457   \n",
       "winsorized_Measles                               -0.220138   \n",
       "winsorized_Percentage_Exp                         0.151131   \n",
       "winsorized_HepatitisB                             1.000000   \n",
       "winsorized_Under_Five_Deaths                     -0.322029   \n",
       "winsorized_Polio                                  0.595555   \n",
       "winsorized_Tot_Exp                                0.066644   \n",
       "winsorized_Diphtheria                             0.618007   \n",
       "winsorized_HIV                                   -0.240829   \n",
       "winsorized_GDP                                    0.203436   \n",
       "winsorized_Population                            -0.120732   \n",
       "winsorized_thinness_1to19_years                  -0.122274   \n",
       "winsorized_thinness_5to9_years                   -0.131153   \n",
       "winsorized_Income_Comp_Of_Resources               0.272720   \n",
       "winsorized_Schooling                              0.252929   \n",
       "\n",
       "                                     winsorized_Under_Five_Deaths  \\\n",
       "winsorized_Life_Expectancy                              -0.619613   \n",
       "winsorized_Adult_Mortality                               0.421457   \n",
       "winsorized_Infant_Deaths                                 0.985851   \n",
       "winsorized_Alcohol                                      -0.359155   \n",
       "winsorized_Measles                                       0.561252   \n",
       "winsorized_Percentage_Exp                               -0.399290   \n",
       "winsorized_HepatitisB                                   -0.322029   \n",
       "winsorized_Under_Five_Deaths                             1.000000   \n",
       "winsorized_Polio                                        -0.471238   \n",
       "winsorized_Tot_Exp                                      -0.155514   \n",
       "winsorized_Diphtheria                                   -0.464713   \n",
       "winsorized_HIV                                           0.475974   \n",
       "winsorized_GDP                                          -0.435057   \n",
       "winsorized_Population                                    0.320466   \n",
       "winsorized_thinness_1to19_years                          0.459313   \n",
       "winsorized_thinness_5to9_years                           0.470905   \n",
       "winsorized_Income_Comp_Of_Resources                     -0.548523   \n",
       "winsorized_Schooling                                    -0.565581   \n",
       "\n",
       "                                     winsorized_Polio  winsorized_Tot_Exp  \\\n",
       "winsorized_Life_Expectancy                   0.587173            0.216093   \n",
       "winsorized_Adult_Mortality                  -0.368300           -0.127373   \n",
       "winsorized_Infant_Deaths                    -0.457103           -0.154880   \n",
       "winsorized_Alcohol                           0.284179            0.308352   \n",
       "winsorized_Measles                          -0.322359           -0.152592   \n",
       "winsorized_Percentage_Exp                    0.289190            0.182879   \n",
       "winsorized_HepatitisB                        0.595555            0.066644   \n",
       "winsorized_Under_Five_Deaths                -0.471238           -0.155514   \n",
       "winsorized_Polio                             1.000000            0.164396   \n",
       "winsorized_Tot_Exp                           0.164396            1.000000   \n",
       "winsorized_Diphtheria                        0.899107            0.175464   \n",
       "winsorized_HIV                              -0.486280           -0.128050   \n",
       "winsorized_GDP                               0.364801            0.127185   \n",
       "winsorized_Population                       -0.091432           -0.031148   \n",
       "winsorized_thinness_1to19_years             -0.308328           -0.291124   \n",
       "winsorized_thinness_5to9_years              -0.308693           -0.302515   \n",
       "winsorized_Income_Comp_Of_Resources          0.538721            0.183424   \n",
       "winsorized_Schooling                         0.521349            0.252422   \n",
       "\n",
       "                                     winsorized_Diphtheria  winsorized_HIV  \\\n",
       "winsorized_Life_Expectancy                        0.591085       -0.773796   \n",
       "winsorized_Adult_Mortality                       -0.369742        0.587814   \n",
       "winsorized_Infant_Deaths                         -0.453238        0.435169   \n",
       "winsorized_Alcohol                                0.294701       -0.242268   \n",
       "winsorized_Measles                               -0.324879        0.238138   \n",
       "winsorized_Percentage_Exp                         0.297199       -0.327366   \n",
       "winsorized_HepatitisB                             0.618007       -0.240829   \n",
       "winsorized_Under_Five_Deaths                     -0.464713        0.475974   \n",
       "winsorized_Polio                                  0.899107       -0.486280   \n",
       "winsorized_Tot_Exp                                0.175464       -0.128050   \n",
       "winsorized_Diphtheria                             1.000000       -0.470794   \n",
       "winsorized_HIV                                   -0.470794        1.000000   \n",
       "winsorized_GDP                                    0.364916       -0.413606   \n",
       "winsorized_Population                            -0.079726        0.066723   \n",
       "winsorized_thinness_1to19_years                  -0.314504        0.415870   \n",
       "winsorized_thinness_5to9_years                   -0.313172        0.400286   \n",
       "winsorized_Income_Comp_Of_Resources               0.535503       -0.629985   \n",
       "winsorized_Schooling                              0.522119       -0.587927   \n",
       "\n",
       "                                     winsorized_GDP  winsorized_Population  \\\n",
       "winsorized_Life_Expectancy                 0.545245              -0.066396   \n",
       "winsorized_Adult_Mortality                -0.341445               0.079204   \n",
       "winsorized_Infant_Deaths                  -0.406842               0.319594   \n",
       "winsorized_Alcohol                         0.393803               0.020977   \n",
       "winsorized_Measles                        -0.227671               0.229296   \n",
       "winsorized_Percentage_Exp                  0.829866               0.004599   \n",
       "winsorized_HepatitisB                      0.203436              -0.120732   \n",
       "winsorized_Under_Five_Deaths              -0.435057               0.320466   \n",
       "winsorized_Polio                           0.364801              -0.091432   \n",
       "winsorized_Tot_Exp                         0.127185              -0.031148   \n",
       "winsorized_Diphtheria                      0.364916              -0.079726   \n",
       "winsorized_HIV                            -0.413606               0.066723   \n",
       "winsorized_GDP                             1.000000              -0.027155   \n",
       "winsorized_Population                     -0.027155               1.000000   \n",
       "winsorized_thinness_1to19_years           -0.355042               0.039282   \n",
       "winsorized_thinness_5to9_years            -0.358348               0.048920   \n",
       "winsorized_Income_Comp_Of_Resources        0.640564              -0.049340   \n",
       "winsorized_Schooling                       0.616168              -0.057419   \n",
       "\n",
       "                                     winsorized_thinness_1to19_years  \\\n",
       "winsorized_Life_Expectancy                                 -0.527094   \n",
       "winsorized_Adult_Mortality                                  0.352287   \n",
       "winsorized_Infant_Deaths                                    0.442393   \n",
       "winsorized_Alcohol                                         -0.438428   \n",
       "winsorized_Measles                                          0.361710   \n",
       "winsorized_Percentage_Exp                                  -0.332174   \n",
       "winsorized_HepatitisB                                      -0.122274   \n",
       "winsorized_Under_Five_Deaths                                0.459313   \n",
       "winsorized_Polio                                           -0.308328   \n",
       "winsorized_Tot_Exp                                         -0.291124   \n",
       "winsorized_Diphtheria                                      -0.314504   \n",
       "winsorized_HIV                                              0.415870   \n",
       "winsorized_GDP                                             -0.355042   \n",
       "winsorized_Population                                       0.039282   \n",
       "winsorized_thinness_1to19_years                             1.000000   \n",
       "winsorized_thinness_5to9_years                              0.941943   \n",
       "winsorized_Income_Comp_Of_Resources                        -0.513467   \n",
       "winsorized_Schooling                                       -0.497256   \n",
       "\n",
       "                                     winsorized_thinness_5to9_years  \\\n",
       "winsorized_Life_Expectancy                                -0.527397   \n",
       "winsorized_Adult_Mortality                                 0.361534   \n",
       "winsorized_Infant_Deaths                                   0.456891   \n",
       "winsorized_Alcohol                                        -0.430123   \n",
       "winsorized_Measles                                         0.368291   \n",
       "winsorized_Percentage_Exp                                 -0.333940   \n",
       "winsorized_HepatitisB                                     -0.131153   \n",
       "winsorized_Under_Five_Deaths                               0.470905   \n",
       "winsorized_Polio                                          -0.308693   \n",
       "winsorized_Tot_Exp                                        -0.302515   \n",
       "winsorized_Diphtheria                                     -0.313172   \n",
       "winsorized_HIV                                             0.400286   \n",
       "winsorized_GDP                                            -0.358348   \n",
       "winsorized_Population                                      0.048920   \n",
       "winsorized_thinness_1to19_years                            0.941943   \n",
       "winsorized_thinness_5to9_years                             1.000000   \n",
       "winsorized_Income_Comp_Of_Resources                       -0.506154   \n",
       "winsorized_Schooling                                      -0.491216   \n",
       "\n",
       "                                     winsorized_Income_Comp_Of_Resources  \\\n",
       "winsorized_Life_Expectancy                                      0.799490   \n",
       "winsorized_Adult_Mortality                                     -0.525711   \n",
       "winsorized_Infant_Deaths                                       -0.506345   \n",
       "winsorized_Alcohol                                              0.489420   \n",
       "winsorized_Measles                                             -0.273389   \n",
       "winsorized_Percentage_Exp                                       0.544565   \n",
       "winsorized_HepatitisB                                           0.272720   \n",
       "winsorized_Under_Five_Deaths                                   -0.548523   \n",
       "winsorized_Polio                                                0.538721   \n",
       "winsorized_Tot_Exp                                              0.183424   \n",
       "winsorized_Diphtheria                                           0.535503   \n",
       "winsorized_HIV                                                 -0.629985   \n",
       "winsorized_GDP                                                  0.640564   \n",
       "winsorized_Population                                          -0.049340   \n",
       "winsorized_thinness_1to19_years                                -0.513467   \n",
       "winsorized_thinness_5to9_years                                 -0.506154   \n",
       "winsorized_Income_Comp_Of_Resources                             1.000000   \n",
       "winsorized_Schooling                                            0.882292   \n",
       "\n",
       "                                     winsorized_Schooling  \n",
       "winsorized_Life_Expectancy                       0.740618  \n",
       "winsorized_Adult_Mortality                      -0.464131  \n",
       "winsorized_Infant_Deaths                        -0.530708  \n",
       "winsorized_Alcohol                               0.521397  \n",
       "winsorized_Measles                              -0.321029  \n",
       "winsorized_Percentage_Exp                        0.528218  \n",
       "winsorized_HepatitisB                            0.252929  \n",
       "winsorized_Under_Five_Deaths                    -0.565581  \n",
       "winsorized_Polio                                 0.521349  \n",
       "winsorized_Tot_Exp                               0.252422  \n",
       "winsorized_Diphtheria                            0.522119  \n",
       "winsorized_HIV                                  -0.587927  \n",
       "winsorized_GDP                                   0.616168  \n",
       "winsorized_Population                           -0.057419  \n",
       "winsorized_thinness_1to19_years                 -0.497256  \n",
       "winsorized_thinness_5to9_years                  -0.491216  \n",
       "winsorized_Income_Comp_Of_Resources              0.882292  \n",
       "winsorized_Schooling                             1.000000  "
      ]
     },
     "execution_count": 78,
     "metadata": {},
     "output_type": "execute_result"
    }
   ],
   "source": [
    "le_corr = df_sin_atipicos.loc[ : , columns_to_use  ].corr()\n",
    "le_corr"
   ]
  },
  {
   "cell_type": "code",
   "execution_count": 79,
   "id": "2e0a4db9-0711-40ac-b620-ee2c61706760",
   "metadata": {},
   "outputs": [
    {
     "data": {
      "text/plain": [
       "<AxesSubplot:>"
      ]
     },
     "execution_count": 79,
     "metadata": {},
     "output_type": "execute_result"
    },
    {
     "data": {
      "image/png": "[encoded data removed]",
      "text/plain": [
       "<Figure size 720x576 with 2 Axes>"
      ]
     },
     "metadata": {
      "needs_background": "light"
     },
     "output_type": "display_data"
    }
   ],
   "source": [
    "f, ax = plt.subplots(figsize=(10, 8))\n",
    "\n",
    "sns.heatmap(le_corr, mask=np.zeros_like(le_corr, dtype=np.bool_), cmap=sns.diverging_palette(220, 10, as_cmap=True),\n",
    "            square=True, ax=ax)"
   ]
  },
  {
   "cell_type": "markdown",
   "id": "1ac4507b-71ec-49c2-9b38-ce7e88de10e1",
   "metadata": {},
   "source": [
    "## Análisis"
   ]
  },
  {
   "cell_type": "markdown",
   "id": "26aca7a7-d1cf-4c72-9a26-ad6b58cf1c8f",
   "metadata": {},
   "source": [
    "#### winsorized_Income_Comp_Of_Resources está correlacionado con winsorized_Schooling.\n",
    "\n",
    "#### winsorized_thinness_1to19_years y winsorized_thinness_5to9_years están correlacionados.\n",
    "\n",
    "#### winsorized_Percentage_Exp y winsorized_GDP están correlacionados.\n",
    "\n",
    "#### winsorized_Income_Comp_Of_Resources y winsorized_Life_Expectancy están correlacionados.\n",
    "\n",
    "#### winsorized_Life_Expectancy y winsorized_Schooling están correlacionados.\n",
    "\n",
    "#### winsorized_Infant_Deaths y winsorized_Under_Five_Deaths están correlacionados.\n",
    "\n",
    "#### winsorized_HIV tiene una correlación negativa con winsorized_Life_Expectancy.\n",
    "\n",
    "#### winsorized_Adult_Mortality tiene una correlación negativa con winsorized_Life_Expectancy."
   ]
  },
  {
   "cell_type": "code",
   "execution_count": null,
   "id": "7fc663ea-cfe9-4980-abc9-39d3d0041a4e",
   "metadata": {},
   "outputs": [],
   "source": []
  },
  {
   "cell_type": "markdown",
   "id": "d53bfa12-6115-4424-9dd5-177224d4bd3b",
   "metadata": {},
   "source": [
    "# Análisis de Frecuencias."
   ]
  },
  {
   "cell_type": "markdown",
   "id": "21c22618-17bb-4f05-aa40-c00ec29a1e6f",
   "metadata": {},
   "source": [
    "### El análisis de frecuencia es una técnica utilizada para contar la cantidad de veces que un valor o un rango de valores ocurre en un conjunto de datos.\n",
    "### El análisis de frecuencia es útil para obtener una visión general de la distribución de los datos y para entender mejor cómo se distribuyen los valores en un conjunto de datos."
   ]
  },
  {
   "cell_type": "code",
   "execution_count": 85,
   "id": "e947dbc5-ebff-4f26-b15f-d009a351ed1b",
   "metadata": {},
   "outputs": [],
   "source": [
    "ana_frec = df_sin_atipicos"
   ]
  },
  {
   "cell_type": "code",
   "execution_count": 86,
   "id": "05e6d14b-9c8b-4cf1-a69d-d22494e9483a",
   "metadata": {},
   "outputs": [
    {
     "data": {
      "text/plain": [
       "Index(['Country', 'Year', 'Status', 'Life expectancy ', 'Adult Mortality',\n",
       "       'infant deaths', 'Alcohol', 'percentage expenditure', 'Hepatitis B',\n",
       "       'Measles ', ' BMI ', 'under-five deaths ', 'Polio', 'Total expenditure',\n",
       "       'Diphtheria ', ' HIV/AIDS', 'GDP', 'Population',\n",
       "       ' thinness  1-19 years', ' thinness 5-9 years',\n",
       "       'Income composition of resources', 'Schooling',\n",
       "       'winsorized_Life_Expectancy', 'winsorized_Adult_Mortality',\n",
       "       'winsorized_Infant_Deaths', 'winsorized_Alcohol',\n",
       "       'winsorized_Percentage_Exp', 'winsorized_HepatitisB',\n",
       "       'winsorized_Under_Five_Deaths', 'winsorized_Polio',\n",
       "       'winsorized_Tot_Exp', 'winsorized_Diphtheria', 'winsorized_HIV',\n",
       "       'winsorized_GDP', 'winsorized_Population',\n",
       "       'winsorized_thinness_1to19_years', 'winsorized_thinness_5to9_years',\n",
       "       'winsorized_Income_Comp_Of_Resources', 'winsorized_Schooling',\n",
       "       'winsorized_Measles'],\n",
       "      dtype='object')"
      ]
     },
     "execution_count": 86,
     "metadata": {},
     "output_type": "execute_result"
    }
   ],
   "source": [
    "ana_frec.columns"
   ]
  },
  {
   "cell_type": "code",
   "execution_count": null,
   "id": "7fb2b1a9-9394-4540-a248-3a2303030608",
   "metadata": {},
   "outputs": [],
   "source": []
  },
  {
   "cell_type": "markdown",
   "id": "1139ae21-7278-41f2-8e44-5a71a6c8a330",
   "metadata": {},
   "source": [
    "## Porcentaje de Mortalidad por año."
   ]
  },
  {
   "cell_type": "code",
   "execution_count": 84,
   "id": "d8c0c952-a060-4724-983f-d432e4686016",
   "metadata": {},
   "outputs": [],
   "source": [
    "x=ana_frec.loc[: ,['Country', 'Year']]"
   ]
  },
  {
   "cell_type": "code",
   "execution_count": 88,
   "id": "f7af98fa-7113-4ba6-8bb5-21da82007461",
   "metadata": {},
   "outputs": [],
   "source": [
    "x['Porcentage Mortality']=(((ana_frec['winsorized_Population']/ 1000)*(ana_frec['winsorized_Adult_Mortality']+ ana_frec['winsorized_Infant_Deaths']+ana_frec['winsorized_Under_Five_Deaths']))/ ana_frec['winsorized_Population'])*100"
   ]
  },
  {
   "cell_type": "code",
   "execution_count": 89,
   "id": "d1c112a8-7c59-4480-9134-38bdddf83aad",
   "metadata": {},
   "outputs": [
    {
     "data": {
      "text/html": [
       "<div>\n",
       "<style scoped>\n",
       "    .dataframe tbody tr th:only-of-type {\n",
       "        vertical-align: middle;\n",
       "    }\n",
       "\n",
       "    .dataframe tbody tr th {\n",
       "        vertical-align: top;\n",
       "    }\n",
       "\n",
       "    .dataframe thead th {\n",
       "        text-align: right;\n",
       "    }\n",
       "</style>\n",
       "<table border=\"1\" class=\"dataframe\">\n",
       "  <thead>\n",
       "    <tr style=\"text-align: right;\">\n",
       "      <th></th>\n",
       "      <th>Country</th>\n",
       "      <th>Year</th>\n",
       "      <th>Porcentage Mortality</th>\n",
       "    </tr>\n",
       "  </thead>\n",
       "  <tbody>\n",
       "    <tr>\n",
       "      <th>0</th>\n",
       "      <td>Afghanistan</td>\n",
       "      <td>2015</td>\n",
       "      <td>34.8</td>\n",
       "    </tr>\n",
       "    <tr>\n",
       "      <th>1</th>\n",
       "      <td>Afghanistan</td>\n",
       "      <td>2014</td>\n",
       "      <td>35.6</td>\n",
       "    </tr>\n",
       "    <tr>\n",
       "      <th>2</th>\n",
       "      <td>Afghanistan</td>\n",
       "      <td>2013</td>\n",
       "      <td>35.3</td>\n",
       "    </tr>\n",
       "    <tr>\n",
       "      <th>3</th>\n",
       "      <td>Afghanistan</td>\n",
       "      <td>2012</td>\n",
       "      <td>35.7</td>\n",
       "    </tr>\n",
       "    <tr>\n",
       "      <th>4</th>\n",
       "      <td>Afghanistan</td>\n",
       "      <td>2011</td>\n",
       "      <td>36.0</td>\n",
       "    </tr>\n",
       "    <tr>\n",
       "      <th>...</th>\n",
       "      <td>...</td>\n",
       "      <td>...</td>\n",
       "      <td>...</td>\n",
       "    </tr>\n",
       "    <tr>\n",
       "      <th>2933</th>\n",
       "      <td>Zimbabwe</td>\n",
       "      <td>2004</td>\n",
       "      <td>52.1</td>\n",
       "    </tr>\n",
       "    <tr>\n",
       "      <th>2934</th>\n",
       "      <td>Zimbabwe</td>\n",
       "      <td>2003</td>\n",
       "      <td>51.9</td>\n",
       "    </tr>\n",
       "    <tr>\n",
       "      <th>2935</th>\n",
       "      <td>Zimbabwe</td>\n",
       "      <td>2002</td>\n",
       "      <td>13.8</td>\n",
       "    </tr>\n",
       "    <tr>\n",
       "      <th>2936</th>\n",
       "      <td>Zimbabwe</td>\n",
       "      <td>2001</td>\n",
       "      <td>51.6</td>\n",
       "    </tr>\n",
       "    <tr>\n",
       "      <th>2937</th>\n",
       "      <td>Zimbabwe</td>\n",
       "      <td>2000</td>\n",
       "      <td>51.5</td>\n",
       "    </tr>\n",
       "  </tbody>\n",
       "</table>\n",
       "<p>2938 rows × 3 columns</p>\n",
       "</div>"
      ],
      "text/plain": [
       "          Country  Year  Porcentage Mortality\n",
       "0     Afghanistan  2015                  34.8\n",
       "1     Afghanistan  2014                  35.6\n",
       "2     Afghanistan  2013                  35.3\n",
       "3     Afghanistan  2012                  35.7\n",
       "4     Afghanistan  2011                  36.0\n",
       "...           ...   ...                   ...\n",
       "2933     Zimbabwe  2004                  52.1\n",
       "2934     Zimbabwe  2003                  51.9\n",
       "2935     Zimbabwe  2002                  13.8\n",
       "2936     Zimbabwe  2001                  51.6\n",
       "2937     Zimbabwe  2000                  51.5\n",
       "\n",
       "[2938 rows x 3 columns]"
      ]
     },
     "execution_count": 89,
     "metadata": {},
     "output_type": "execute_result"
    }
   ],
   "source": [
    "x"
   ]
  },
  {
   "cell_type": "markdown",
   "id": "2e2ac2f2-d65d-48b0-b434-a1967cffb08c",
   "metadata": {},
   "source": [
    "## ¿Cuales son los 10 paises con menor Masa Muscular de los ultimos 5 años?"
   ]
  },
  {
   "cell_type": "code",
   "execution_count": 91,
   "id": "27514414-468a-4ac8-a351-224e89837ac4",
   "metadata": {},
   "outputs": [],
   "source": [
    "x= ana_frec.loc[: , ['Country', 'Year', ' BMI ']]"
   ]
  },
  {
   "cell_type": "code",
   "execution_count": 92,
   "id": "39a3e622-b0e9-481e-9711-2957f6f6c083",
   "metadata": {},
   "outputs": [],
   "source": [
    "x['orden ']=x.sort_values(['Country', 'Year'], ascending= False).groupby(['Country'])['Year'].rank(method= 'first', ascending = False)"
   ]
  },
  {
   "cell_type": "code",
   "execution_count": 93,
   "id": "136a9f2b-7022-42e6-8d9a-11497d0600f6",
   "metadata": {},
   "outputs": [],
   "source": [
    " z = x.loc[x['orden ']<= 5 ,['Country', 'Year',' BMI '] ]"
   ]
  },
  {
   "cell_type": "code",
   "execution_count": 94,
   "id": "0592d9ce-6b52-49ad-a4a2-403673eae97c",
   "metadata": {},
   "outputs": [],
   "source": [
    "z =z.groupby('Country', as_index= False ).agg({' BMI ': ['max', 'min']})"
   ]
  },
  {
   "cell_type": "code",
   "execution_count": 95,
   "id": "95ec0f2b-f92f-4582-9619-74f80d84c2a3",
   "metadata": {},
   "outputs": [],
   "source": [
    "z.columns= z.columns.droplevel(1)"
   ]
  },
  {
   "cell_type": "code",
   "execution_count": 96,
   "id": "0335f3c7-4c97-460a-8463-108d5a9534f9",
   "metadata": {},
   "outputs": [],
   "source": [
    "z.columns=['Country', ' BMI Max ', ' BMI Min ']"
   ]
  },
  {
   "cell_type": "code",
   "execution_count": 97,
   "id": "c1779e03-db7c-47bb-8f77-e7c17f812319",
   "metadata": {},
   "outputs": [],
   "source": [
    "z= z.loc[:,['Country', ' BMI Max ',' BMI Min ']].sort_values([' BMI Max '] )"
   ]
  },
  {
   "cell_type": "code",
   "execution_count": 98,
   "id": "913d1dc1-3c99-4995-89f8-1ab487c4517c",
   "metadata": {},
   "outputs": [
    {
     "data": {
      "text/html": [
       "<div>\n",
       "<style scoped>\n",
       "    .dataframe tbody tr th:only-of-type {\n",
       "        vertical-align: middle;\n",
       "    }\n",
       "\n",
       "    .dataframe tbody tr th {\n",
       "        vertical-align: top;\n",
       "    }\n",
       "\n",
       "    .dataframe thead th {\n",
       "        text-align: right;\n",
       "    }\n",
       "</style>\n",
       "<table border=\"1\" class=\"dataframe\">\n",
       "  <thead>\n",
       "    <tr style=\"text-align: right;\">\n",
       "      <th></th>\n",
       "      <th>Country</th>\n",
       "      <th>BMI Max</th>\n",
       "      <th>BMI Min</th>\n",
       "    </tr>\n",
       "  </thead>\n",
       "  <tbody>\n",
       "    <tr>\n",
       "      <th>142</th>\n",
       "      <td>Saint Kitts and Nevis</td>\n",
       "      <td>5.2</td>\n",
       "      <td>5.2</td>\n",
       "    </tr>\n",
       "    <tr>\n",
       "      <th>171</th>\n",
       "      <td>Timor-Leste</td>\n",
       "      <td>17.4</td>\n",
       "      <td>15.8</td>\n",
       "    </tr>\n",
       "    <tr>\n",
       "      <th>189</th>\n",
       "      <td>Viet Nam</td>\n",
       "      <td>17.5</td>\n",
       "      <td>14.7</td>\n",
       "    </tr>\n",
       "    <tr>\n",
       "      <th>57</th>\n",
       "      <td>Ethiopia</td>\n",
       "      <td>17.6</td>\n",
       "      <td>16.0</td>\n",
       "    </tr>\n",
       "    <tr>\n",
       "      <th>12</th>\n",
       "      <td>Bangladesh</td>\n",
       "      <td>18.3</td>\n",
       "      <td>15.8</td>\n",
       "    </tr>\n",
       "    <tr>\n",
       "      <th>179</th>\n",
       "      <td>Uganda</td>\n",
       "      <td>18.5</td>\n",
       "      <td>16.7</td>\n",
       "    </tr>\n",
       "    <tr>\n",
       "      <th>55</th>\n",
       "      <td>Eritrea</td>\n",
       "      <td>18.6</td>\n",
       "      <td>16.5</td>\n",
       "    </tr>\n",
       "    <tr>\n",
       "      <th>26</th>\n",
       "      <td>Burundi</td>\n",
       "      <td>18.7</td>\n",
       "      <td>16.6</td>\n",
       "    </tr>\n",
       "    <tr>\n",
       "      <th>76</th>\n",
       "      <td>India</td>\n",
       "      <td>18.7</td>\n",
       "      <td>16.4</td>\n",
       "    </tr>\n",
       "    <tr>\n",
       "      <th>0</th>\n",
       "      <td>Afghanistan</td>\n",
       "      <td>19.1</td>\n",
       "      <td>17.2</td>\n",
       "    </tr>\n",
       "  </tbody>\n",
       "</table>\n",
       "</div>"
      ],
      "text/plain": [
       "                   Country   BMI Max    BMI Min \n",
       "142  Saint Kitts and Nevis        5.2        5.2\n",
       "171            Timor-Leste       17.4       15.8\n",
       "189               Viet Nam       17.5       14.7\n",
       "57                Ethiopia       17.6       16.0\n",
       "12              Bangladesh       18.3       15.8\n",
       "179                 Uganda       18.5       16.7\n",
       "55                 Eritrea       18.6       16.5\n",
       "26                 Burundi       18.7       16.6\n",
       "76                   India       18.7       16.4\n",
       "0              Afghanistan       19.1       17.2"
      ]
     },
     "execution_count": 98,
     "metadata": {},
     "output_type": "execute_result"
    }
   ],
   "source": [
    "z.head(10)"
   ]
  },
  {
   "cell_type": "markdown",
   "id": "0d528391-4145-45eb-b5c9-4349178ad502",
   "metadata": {},
   "source": [
    "### ¿Cuales son los 10 paises con mayor porcentaje de niños delgados entre 5 a 9 años ?"
   ]
  },
  {
   "cell_type": "code",
   "execution_count": 99,
   "id": "54d06e45-e267-47db-93fa-41c350bebda5",
   "metadata": {},
   "outputs": [],
   "source": [
    "x= ana_frec.loc[: , ['Country', 'Year', 'winsorized_thinness_5to9_years']]"
   ]
  },
  {
   "cell_type": "code",
   "execution_count": 100,
   "id": "3e6da11c-db18-4b17-8a79-97faa580fd09",
   "metadata": {},
   "outputs": [],
   "source": [
    "x['orden ']=x.sort_values(['Country', 'Year'], ascending= False).groupby(['Country'])['Year'].rank(method= 'first', ascending = False)"
   ]
  },
  {
   "cell_type": "code",
   "execution_count": 101,
   "id": "3ad95a55-980a-419b-9162-4a215f287908",
   "metadata": {},
   "outputs": [],
   "source": [
    "z = x.loc[x['orden ']==1  ,['Country', 'Year','winsorized_thinness_5to9_years'] ]"
   ]
  },
  {
   "cell_type": "code",
   "execution_count": 103,
   "id": "0422b73e-b146-4268-9698-98026aedde65",
   "metadata": {},
   "outputs": [],
   "source": [
    "z =z.sort_values('winsorized_thinness_5to9_years', ascending= False)"
   ]
  },
  {
   "cell_type": "code",
   "execution_count": 104,
   "id": "9ee58ccb-65d8-48f5-afcb-2c67b5ce4808",
   "metadata": {},
   "outputs": [
    {
     "data": {
      "text/html": [
       "<div>\n",
       "<style scoped>\n",
       "    .dataframe tbody tr th:only-of-type {\n",
       "        vertical-align: middle;\n",
       "    }\n",
       "\n",
       "    .dataframe tbody tr th {\n",
       "        vertical-align: top;\n",
       "    }\n",
       "\n",
       "    .dataframe thead th {\n",
       "        text-align: right;\n",
       "    }\n",
       "</style>\n",
       "<table border=\"1\" class=\"dataframe\">\n",
       "  <thead>\n",
       "    <tr style=\"text-align: right;\">\n",
       "      <th></th>\n",
       "      <th>Country</th>\n",
       "      <th>Year</th>\n",
       "      <th>winsorized_thinness_5to9_years</th>\n",
       "    </tr>\n",
       "  </thead>\n",
       "  <tbody>\n",
       "    <tr>\n",
       "      <th>0</th>\n",
       "      <td>Afghanistan</td>\n",
       "      <td>2015</td>\n",
       "      <td>13.8</td>\n",
       "    </tr>\n",
       "    <tr>\n",
       "      <th>192</th>\n",
       "      <td>Bangladesh</td>\n",
       "      <td>2015</td>\n",
       "      <td>13.8</td>\n",
       "    </tr>\n",
       "    <tr>\n",
       "      <th>1186</th>\n",
       "      <td>India</td>\n",
       "      <td>2015</td>\n",
       "      <td>13.8</td>\n",
       "    </tr>\n",
       "    <tr>\n",
       "      <th>1813</th>\n",
       "      <td>Nepal</td>\n",
       "      <td>2015</td>\n",
       "      <td>13.8</td>\n",
       "    </tr>\n",
       "    <tr>\n",
       "      <th>2441</th>\n",
       "      <td>Sri Lanka</td>\n",
       "      <td>2015</td>\n",
       "      <td>13.8</td>\n",
       "    </tr>\n",
       "    <tr>\n",
       "      <th>288</th>\n",
       "      <td>Bhutan</td>\n",
       "      <td>2015</td>\n",
       "      <td>13.8</td>\n",
       "    </tr>\n",
       "    <tr>\n",
       "      <th>1942</th>\n",
       "      <td>Pakistan</td>\n",
       "      <td>2015</td>\n",
       "      <td>13.8</td>\n",
       "    </tr>\n",
       "    <tr>\n",
       "      <th>2874</th>\n",
       "      <td>Viet Nam</td>\n",
       "      <td>2015</td>\n",
       "      <td>13.8</td>\n",
       "    </tr>\n",
       "    <tr>\n",
       "      <th>1602</th>\n",
       "      <td>Maldives</td>\n",
       "      <td>2015</td>\n",
       "      <td>13.6</td>\n",
       "    </tr>\n",
       "    <tr>\n",
       "      <th>2890</th>\n",
       "      <td>Yemen</td>\n",
       "      <td>2015</td>\n",
       "      <td>13.4</td>\n",
       "    </tr>\n",
       "  </tbody>\n",
       "</table>\n",
       "</div>"
      ],
      "text/plain": [
       "          Country  Year  winsorized_thinness_5to9_years\n",
       "0     Afghanistan  2015                            13.8\n",
       "192    Bangladesh  2015                            13.8\n",
       "1186        India  2015                            13.8\n",
       "1813        Nepal  2015                            13.8\n",
       "2441    Sri Lanka  2015                            13.8\n",
       "288        Bhutan  2015                            13.8\n",
       "1942     Pakistan  2015                            13.8\n",
       "2874     Viet Nam  2015                            13.8\n",
       "1602     Maldives  2015                            13.6\n",
       "2890        Yemen  2015                            13.4"
      ]
     },
     "execution_count": 104,
     "metadata": {},
     "output_type": "execute_result"
    }
   ],
   "source": [
    "z.head(10)"
   ]
  },
  {
   "cell_type": "markdown",
   "id": "89a849e1-a41a-4219-98c5-ed61b4af1e46",
   "metadata": {},
   "source": [
    "### ¿Cuales son los 10 paises con mayor porcentaje de niños delgados entre 1 a 19 años ?"
   ]
  },
  {
   "cell_type": "code",
   "execution_count": 106,
   "id": "f86cf565-edd0-40eb-a14f-53e4ed39c35a",
   "metadata": {},
   "outputs": [],
   "source": [
    "x= ana_frec.loc[: , ['Country', 'Year', 'winsorized_thinness_1to19_years']]"
   ]
  },
  {
   "cell_type": "code",
   "execution_count": 107,
   "id": "d9e654d7-b4c0-49a1-b2ec-8f26f243b433",
   "metadata": {},
   "outputs": [],
   "source": [
    "x['orden ']=x.sort_values(['Country', 'Year'], ascending= False).groupby(['Country'])['Year'].rank(method= 'first', ascending = False)"
   ]
  },
  {
   "cell_type": "code",
   "execution_count": 108,
   "id": "325118f2-2a98-47e7-9455-4f0144ef6be7",
   "metadata": {},
   "outputs": [],
   "source": [
    "z = x.loc[x['orden ']==1  ,['Country', 'Year','winsorized_thinness_1to19_years'] ]"
   ]
  },
  {
   "cell_type": "code",
   "execution_count": 109,
   "id": "d9dd783d-dd1e-4d78-b9ac-967b732d672f",
   "metadata": {},
   "outputs": [],
   "source": [
    "z =z.sort_values('winsorized_thinness_1to19_years', ascending= False)"
   ]
  },
  {
   "cell_type": "code",
   "execution_count": 110,
   "id": "9ff362ef-4216-4d76-a272-a76b713771b2",
   "metadata": {},
   "outputs": [
    {
     "data": {
      "text/html": [
       "<div>\n",
       "<style scoped>\n",
       "    .dataframe tbody tr th:only-of-type {\n",
       "        vertical-align: middle;\n",
       "    }\n",
       "\n",
       "    .dataframe tbody tr th {\n",
       "        vertical-align: top;\n",
       "    }\n",
       "\n",
       "    .dataframe thead th {\n",
       "        text-align: right;\n",
       "    }\n",
       "</style>\n",
       "<table border=\"1\" class=\"dataframe\">\n",
       "  <thead>\n",
       "    <tr style=\"text-align: right;\">\n",
       "      <th></th>\n",
       "      <th>Country</th>\n",
       "      <th>Year</th>\n",
       "      <th>winsorized_thinness_1to19_years</th>\n",
       "    </tr>\n",
       "  </thead>\n",
       "  <tbody>\n",
       "    <tr>\n",
       "      <th>0</th>\n",
       "      <td>Afghanistan</td>\n",
       "      <td>2015</td>\n",
       "      <td>13.8</td>\n",
       "    </tr>\n",
       "    <tr>\n",
       "      <th>2874</th>\n",
       "      <td>Viet Nam</td>\n",
       "      <td>2015</td>\n",
       "      <td>13.8</td>\n",
       "    </tr>\n",
       "    <tr>\n",
       "      <th>1942</th>\n",
       "      <td>Pakistan</td>\n",
       "      <td>2015</td>\n",
       "      <td>13.8</td>\n",
       "    </tr>\n",
       "    <tr>\n",
       "      <th>2441</th>\n",
       "      <td>Sri Lanka</td>\n",
       "      <td>2015</td>\n",
       "      <td>13.8</td>\n",
       "    </tr>\n",
       "    <tr>\n",
       "      <th>1813</th>\n",
       "      <td>Nepal</td>\n",
       "      <td>2015</td>\n",
       "      <td>13.8</td>\n",
       "    </tr>\n",
       "    <tr>\n",
       "      <th>192</th>\n",
       "      <td>Bangladesh</td>\n",
       "      <td>2015</td>\n",
       "      <td>13.8</td>\n",
       "    </tr>\n",
       "    <tr>\n",
       "      <th>288</th>\n",
       "      <td>Bhutan</td>\n",
       "      <td>2015</td>\n",
       "      <td>13.8</td>\n",
       "    </tr>\n",
       "    <tr>\n",
       "      <th>1186</th>\n",
       "      <td>India</td>\n",
       "      <td>2015</td>\n",
       "      <td>13.8</td>\n",
       "    </tr>\n",
       "    <tr>\n",
       "      <th>2890</th>\n",
       "      <td>Yemen</td>\n",
       "      <td>2015</td>\n",
       "      <td>13.6</td>\n",
       "    </tr>\n",
       "    <tr>\n",
       "      <th>1602</th>\n",
       "      <td>Maldives</td>\n",
       "      <td>2015</td>\n",
       "      <td>13.6</td>\n",
       "    </tr>\n",
       "  </tbody>\n",
       "</table>\n",
       "</div>"
      ],
      "text/plain": [
       "          Country  Year  winsorized_thinness_1to19_years\n",
       "0     Afghanistan  2015                             13.8\n",
       "2874     Viet Nam  2015                             13.8\n",
       "1942     Pakistan  2015                             13.8\n",
       "2441    Sri Lanka  2015                             13.8\n",
       "1813        Nepal  2015                             13.8\n",
       "192    Bangladesh  2015                             13.8\n",
       "288        Bhutan  2015                             13.8\n",
       "1186        India  2015                             13.8\n",
       "2890        Yemen  2015                             13.6\n",
       "1602     Maldives  2015                             13.6"
      ]
     },
     "execution_count": 110,
     "metadata": {},
     "output_type": "execute_result"
    }
   ],
   "source": [
    "z.head(10)"
   ]
  },
  {
   "cell_type": "markdown",
   "id": "57d443fd-9b12-424b-b113-8cef96a04c08",
   "metadata": {},
   "source": [
    "### ¿Cuales son los 10 paises que tienen el mayor porcentaje en las vacunas de Hepatitis B, Polio y Difteria ?"
   ]
  },
  {
   "cell_type": "code",
   "execution_count": 111,
   "id": "263afe09-3886-409a-b570-3c799079dd92",
   "metadata": {},
   "outputs": [],
   "source": [
    "x= ana_frec.loc[:, ['Country', 'Year','winsorized_HepatitisB','winsorized_Polio', 'winsorized_Diphtheria' ]]"
   ]
  },
  {
   "cell_type": "code",
   "execution_count": 112,
   "id": "927e95e1-4988-4386-9be4-2b0ea580b67e",
   "metadata": {},
   "outputs": [],
   "source": [
    "x['orden ']=x.sort_values(['Country', 'Year'], ascending= False).groupby(['Country'])['Year'].rank(method= 'first', ascending = False)"
   ]
  },
  {
   "cell_type": "code",
   "execution_count": 113,
   "id": "cdca6e79-bb13-4d47-9573-bde575673b7f",
   "metadata": {},
   "outputs": [],
   "source": [
    "z = x.loc[x['orden ']==1  ,['Country', 'Year','winsorized_HepatitisB','winsorized_Polio', 'winsorized_Diphtheria' ] ]"
   ]
  },
  {
   "cell_type": "code",
   "execution_count": 114,
   "id": "f0539646-67c0-445d-b24a-43cc0df45dd9",
   "metadata": {},
   "outputs": [
    {
     "data": {
      "text/html": [
       "<div>\n",
       "<style scoped>\n",
       "    .dataframe tbody tr th:only-of-type {\n",
       "        vertical-align: middle;\n",
       "    }\n",
       "\n",
       "    .dataframe tbody tr th {\n",
       "        vertical-align: top;\n",
       "    }\n",
       "\n",
       "    .dataframe thead th {\n",
       "        text-align: right;\n",
       "    }\n",
       "</style>\n",
       "<table border=\"1\" class=\"dataframe\">\n",
       "  <thead>\n",
       "    <tr style=\"text-align: right;\">\n",
       "      <th></th>\n",
       "      <th>Country</th>\n",
       "      <th>Year</th>\n",
       "      <th>winsorized_HepatitisB</th>\n",
       "      <th>winsorized_Polio</th>\n",
       "      <th>winsorized_Diphtheria</th>\n",
       "    </tr>\n",
       "  </thead>\n",
       "  <tbody>\n",
       "    <tr>\n",
       "      <th>0</th>\n",
       "      <td>Afghanistan</td>\n",
       "      <td>2015</td>\n",
       "      <td>71.0</td>\n",
       "      <td>65.0</td>\n",
       "      <td>65.0</td>\n",
       "    </tr>\n",
       "    <tr>\n",
       "      <th>16</th>\n",
       "      <td>Albania</td>\n",
       "      <td>2015</td>\n",
       "      <td>99.0</td>\n",
       "      <td>99.0</td>\n",
       "      <td>99.0</td>\n",
       "    </tr>\n",
       "    <tr>\n",
       "      <th>32</th>\n",
       "      <td>Algeria</td>\n",
       "      <td>2015</td>\n",
       "      <td>95.0</td>\n",
       "      <td>95.0</td>\n",
       "      <td>95.0</td>\n",
       "    </tr>\n",
       "    <tr>\n",
       "      <th>48</th>\n",
       "      <td>Angola</td>\n",
       "      <td>2015</td>\n",
       "      <td>71.0</td>\n",
       "      <td>65.0</td>\n",
       "      <td>65.0</td>\n",
       "    </tr>\n",
       "    <tr>\n",
       "      <th>64</th>\n",
       "      <td>Antigua and Barbuda</td>\n",
       "      <td>2015</td>\n",
       "      <td>99.0</td>\n",
       "      <td>86.0</td>\n",
       "      <td>99.0</td>\n",
       "    </tr>\n",
       "    <tr>\n",
       "      <th>...</th>\n",
       "      <td>...</td>\n",
       "      <td>...</td>\n",
       "      <td>...</td>\n",
       "      <td>...</td>\n",
       "      <td>...</td>\n",
       "    </tr>\n",
       "    <tr>\n",
       "      <th>2858</th>\n",
       "      <td>Venezuela (Bolivarian Republic of)</td>\n",
       "      <td>2015</td>\n",
       "      <td>87.0</td>\n",
       "      <td>87.0</td>\n",
       "      <td>87.0</td>\n",
       "    </tr>\n",
       "    <tr>\n",
       "      <th>2874</th>\n",
       "      <td>Viet Nam</td>\n",
       "      <td>2015</td>\n",
       "      <td>97.0</td>\n",
       "      <td>97.0</td>\n",
       "      <td>97.0</td>\n",
       "    </tr>\n",
       "    <tr>\n",
       "      <th>2890</th>\n",
       "      <td>Yemen</td>\n",
       "      <td>2015</td>\n",
       "      <td>71.0</td>\n",
       "      <td>65.0</td>\n",
       "      <td>69.0</td>\n",
       "    </tr>\n",
       "    <tr>\n",
       "      <th>2906</th>\n",
       "      <td>Zambia</td>\n",
       "      <td>2015</td>\n",
       "      <td>71.0</td>\n",
       "      <td>65.0</td>\n",
       "      <td>65.0</td>\n",
       "    </tr>\n",
       "    <tr>\n",
       "      <th>2922</th>\n",
       "      <td>Zimbabwe</td>\n",
       "      <td>2015</td>\n",
       "      <td>87.0</td>\n",
       "      <td>88.0</td>\n",
       "      <td>87.0</td>\n",
       "    </tr>\n",
       "  </tbody>\n",
       "</table>\n",
       "<p>193 rows × 5 columns</p>\n",
       "</div>"
      ],
      "text/plain": [
       "                                 Country  Year  winsorized_HepatitisB  \\\n",
       "0                            Afghanistan  2015                   71.0   \n",
       "16                               Albania  2015                   99.0   \n",
       "32                               Algeria  2015                   95.0   \n",
       "48                                Angola  2015                   71.0   \n",
       "64                   Antigua and Barbuda  2015                   99.0   \n",
       "...                                  ...   ...                    ...   \n",
       "2858  Venezuela (Bolivarian Republic of)  2015                   87.0   \n",
       "2874                            Viet Nam  2015                   97.0   \n",
       "2890                               Yemen  2015                   71.0   \n",
       "2906                              Zambia  2015                   71.0   \n",
       "2922                            Zimbabwe  2015                   87.0   \n",
       "\n",
       "      winsorized_Polio  winsorized_Diphtheria  \n",
       "0                 65.0                   65.0  \n",
       "16                99.0                   99.0  \n",
       "32                95.0                   95.0  \n",
       "48                65.0                   65.0  \n",
       "64                86.0                   99.0  \n",
       "...                ...                    ...  \n",
       "2858              87.0                   87.0  \n",
       "2874              97.0                   97.0  \n",
       "2890              65.0                   69.0  \n",
       "2906              65.0                   65.0  \n",
       "2922              88.0                   87.0  \n",
       "\n",
       "[193 rows x 5 columns]"
      ]
     },
     "execution_count": 114,
     "metadata": {},
     "output_type": "execute_result"
    }
   ],
   "source": [
    "z"
   ]
  },
  {
   "cell_type": "code",
   "execution_count": 115,
   "id": "d31479df-9648-426b-9345-19050cd68b17",
   "metadata": {},
   "outputs": [],
   "source": [
    "mejor= z.sort_values(['winsorized_HepatitisB','winsorized_Polio', 'winsorized_Diphtheria'], ascending= False )"
   ]
  },
  {
   "cell_type": "code",
   "execution_count": 116,
   "id": "74a7daac-a2bf-4747-8cbe-77861372c602",
   "metadata": {},
   "outputs": [
    {
     "data": {
      "text/html": [
       "<div>\n",
       "<style scoped>\n",
       "    .dataframe tbody tr th:only-of-type {\n",
       "        vertical-align: middle;\n",
       "    }\n",
       "\n",
       "    .dataframe tbody tr th {\n",
       "        vertical-align: top;\n",
       "    }\n",
       "\n",
       "    .dataframe thead th {\n",
       "        text-align: right;\n",
       "    }\n",
       "</style>\n",
       "<table border=\"1\" class=\"dataframe\">\n",
       "  <thead>\n",
       "    <tr style=\"text-align: right;\">\n",
       "      <th></th>\n",
       "      <th>Country</th>\n",
       "      <th>Year</th>\n",
       "      <th>winsorized_HepatitisB</th>\n",
       "      <th>winsorized_Polio</th>\n",
       "      <th>winsorized_Diphtheria</th>\n",
       "    </tr>\n",
       "  </thead>\n",
       "  <tbody>\n",
       "    <tr>\n",
       "      <th>16</th>\n",
       "      <td>Albania</td>\n",
       "      <td>2015</td>\n",
       "      <td>99.0</td>\n",
       "      <td>99.0</td>\n",
       "      <td>99.0</td>\n",
       "    </tr>\n",
       "    <tr>\n",
       "      <th>224</th>\n",
       "      <td>Belarus</td>\n",
       "      <td>2015</td>\n",
       "      <td>99.0</td>\n",
       "      <td>99.0</td>\n",
       "      <td>99.0</td>\n",
       "    </tr>\n",
       "    <tr>\n",
       "      <th>304</th>\n",
       "      <td>Bolivia (Plurinational State of)</td>\n",
       "      <td>2015</td>\n",
       "      <td>99.0</td>\n",
       "      <td>99.0</td>\n",
       "      <td>99.0</td>\n",
       "    </tr>\n",
       "    <tr>\n",
       "      <th>368</th>\n",
       "      <td>Brunei Darussalam</td>\n",
       "      <td>2015</td>\n",
       "      <td>99.0</td>\n",
       "      <td>99.0</td>\n",
       "      <td>99.0</td>\n",
       "    </tr>\n",
       "    <tr>\n",
       "      <th>560</th>\n",
       "      <td>China</td>\n",
       "      <td>2015</td>\n",
       "      <td>99.0</td>\n",
       "      <td>99.0</td>\n",
       "      <td>99.0</td>\n",
       "    </tr>\n",
       "    <tr>\n",
       "      <th>657</th>\n",
       "      <td>Cuba</td>\n",
       "      <td>2015</td>\n",
       "      <td>99.0</td>\n",
       "      <td>99.0</td>\n",
       "      <td>99.0</td>\n",
       "    </tr>\n",
       "    <tr>\n",
       "      <th>898</th>\n",
       "      <td>Fiji</td>\n",
       "      <td>2015</td>\n",
       "      <td>99.0</td>\n",
       "      <td>99.0</td>\n",
       "      <td>99.0</td>\n",
       "    </tr>\n",
       "    <tr>\n",
       "      <th>1330</th>\n",
       "      <td>Jordan</td>\n",
       "      <td>2015</td>\n",
       "      <td>99.0</td>\n",
       "      <td>99.0</td>\n",
       "      <td>99.0</td>\n",
       "    </tr>\n",
       "    <tr>\n",
       "      <th>1394</th>\n",
       "      <td>Kuwait</td>\n",
       "      <td>2015</td>\n",
       "      <td>99.0</td>\n",
       "      <td>99.0</td>\n",
       "      <td>99.0</td>\n",
       "    </tr>\n",
       "    <tr>\n",
       "      <th>1586</th>\n",
       "      <td>Malaysia</td>\n",
       "      <td>2015</td>\n",
       "      <td>99.0</td>\n",
       "      <td>99.0</td>\n",
       "      <td>99.0</td>\n",
       "    </tr>\n",
       "  </tbody>\n",
       "</table>\n",
       "</div>"
      ],
      "text/plain": [
       "                               Country  Year  winsorized_HepatitisB  \\\n",
       "16                             Albania  2015                   99.0   \n",
       "224                            Belarus  2015                   99.0   \n",
       "304   Bolivia (Plurinational State of)  2015                   99.0   \n",
       "368                  Brunei Darussalam  2015                   99.0   \n",
       "560                              China  2015                   99.0   \n",
       "657                               Cuba  2015                   99.0   \n",
       "898                               Fiji  2015                   99.0   \n",
       "1330                            Jordan  2015                   99.0   \n",
       "1394                            Kuwait  2015                   99.0   \n",
       "1586                          Malaysia  2015                   99.0   \n",
       "\n",
       "      winsorized_Polio  winsorized_Diphtheria  \n",
       "16                99.0                   99.0  \n",
       "224               99.0                   99.0  \n",
       "304               99.0                   99.0  \n",
       "368               99.0                   99.0  \n",
       "560               99.0                   99.0  \n",
       "657               99.0                   99.0  \n",
       "898               99.0                   99.0  \n",
       "1330              99.0                   99.0  \n",
       "1394              99.0                   99.0  \n",
       "1586              99.0                   99.0  "
      ]
     },
     "execution_count": 116,
     "metadata": {},
     "output_type": "execute_result"
    }
   ],
   "source": [
    "mejor.head(10)"
   ]
  },
  {
   "cell_type": "markdown",
   "id": "d2b58ebc-b17b-4c76-bbc8-2e8b21c35063",
   "metadata": {},
   "source": [
    "### ¿Cuales son los 5 paises que tienen el porcentaje mas bajo de vacuna para el Polio en niños de 1 año?"
   ]
  },
  {
   "cell_type": "code",
   "execution_count": 117,
   "id": "3ef2af45-5dc9-4afe-86a6-7aa0c2776694",
   "metadata": {},
   "outputs": [],
   "source": [
    "peor = z.sort_values(['winsorized_HepatitisB','winsorized_Polio', 'winsorized_Diphtheria'] )"
   ]
  },
  {
   "cell_type": "code",
   "execution_count": 118,
   "id": "3da86449-c48c-4157-bc2a-4459b505a569",
   "metadata": {},
   "outputs": [],
   "source": [
    "x=peor.loc[:, ['Country','winsorized_Polio']].sort_values(['winsorized_Polio'])"
   ]
  },
  {
   "cell_type": "code",
   "execution_count": 119,
   "id": "d497cbbf-6a23-4f1c-88c6-dc3dea5bf0b6",
   "metadata": {},
   "outputs": [
    {
     "data": {
      "text/html": [
       "<div>\n",
       "<style scoped>\n",
       "    .dataframe tbody tr th:only-of-type {\n",
       "        vertical-align: middle;\n",
       "    }\n",
       "\n",
       "    .dataframe tbody tr th {\n",
       "        vertical-align: top;\n",
       "    }\n",
       "\n",
       "    .dataframe thead th {\n",
       "        text-align: right;\n",
       "    }\n",
       "</style>\n",
       "<table border=\"1\" class=\"dataframe\">\n",
       "  <thead>\n",
       "    <tr style=\"text-align: right;\">\n",
       "      <th></th>\n",
       "      <th>Country</th>\n",
       "      <th>winsorized_Polio</th>\n",
       "    </tr>\n",
       "  </thead>\n",
       "  <tbody>\n",
       "    <tr>\n",
       "      <th>0</th>\n",
       "      <td>Afghanistan</td>\n",
       "      <td>65.0</td>\n",
       "    </tr>\n",
       "    <tr>\n",
       "      <th>1474</th>\n",
       "      <td>Lesotho</td>\n",
       "      <td>65.0</td>\n",
       "    </tr>\n",
       "    <tr>\n",
       "      <th>1813</th>\n",
       "      <td>Nepal</td>\n",
       "      <td>65.0</td>\n",
       "    </tr>\n",
       "    <tr>\n",
       "      <th>1378</th>\n",
       "      <td>Kiribati</td>\n",
       "      <td>65.0</td>\n",
       "    </tr>\n",
       "    <tr>\n",
       "      <th>2633</th>\n",
       "      <td>Tonga</td>\n",
       "      <td>65.0</td>\n",
       "    </tr>\n",
       "  </tbody>\n",
       "</table>\n",
       "</div>"
      ],
      "text/plain": [
       "          Country  winsorized_Polio\n",
       "0     Afghanistan              65.0\n",
       "1474      Lesotho              65.0\n",
       "1813        Nepal              65.0\n",
       "1378     Kiribati              65.0\n",
       "2633        Tonga              65.0"
      ]
     },
     "execution_count": 119,
     "metadata": {},
     "output_type": "execute_result"
    }
   ],
   "source": [
    "x.head(5)"
   ]
  },
  {
   "cell_type": "markdown",
   "id": "e42edec1-e92b-431d-8ccc-ba871b484651",
   "metadata": {},
   "source": [
    "### ¿Cuales son los 5 paises que tienen el porcentaje mas bajo de vacuna para el Hepatitis B en niños de 1 año?"
   ]
  },
  {
   "cell_type": "code",
   "execution_count": 120,
   "id": "d916b41c-1253-4663-a82c-183a468fc11c",
   "metadata": {},
   "outputs": [],
   "source": [
    "y =peor.loc[:, ['Country','winsorized_HepatitisB']].sort_values(['winsorized_HepatitisB'])"
   ]
  },
  {
   "cell_type": "code",
   "execution_count": 121,
   "id": "e6e12ddd-887e-4d08-b0d1-be9367310a33",
   "metadata": {},
   "outputs": [
    {
     "data": {
      "text/html": [
       "<div>\n",
       "<style scoped>\n",
       "    .dataframe tbody tr th:only-of-type {\n",
       "        vertical-align: middle;\n",
       "    }\n",
       "\n",
       "    .dataframe tbody tr th {\n",
       "        vertical-align: top;\n",
       "    }\n",
       "\n",
       "    .dataframe thead th {\n",
       "        text-align: right;\n",
       "    }\n",
       "</style>\n",
       "<table border=\"1\" class=\"dataframe\">\n",
       "  <thead>\n",
       "    <tr style=\"text-align: right;\">\n",
       "      <th></th>\n",
       "      <th>Country</th>\n",
       "      <th>winsorized_HepatitisB</th>\n",
       "    </tr>\n",
       "  </thead>\n",
       "  <tbody>\n",
       "    <tr>\n",
       "      <th>0</th>\n",
       "      <td>Afghanistan</td>\n",
       "      <td>71.0</td>\n",
       "    </tr>\n",
       "    <tr>\n",
       "      <th>2200</th>\n",
       "      <td>Samoa</td>\n",
       "      <td>71.0</td>\n",
       "    </tr>\n",
       "    <tr>\n",
       "      <th>1618</th>\n",
       "      <td>Mali</td>\n",
       "      <td>71.0</td>\n",
       "    </tr>\n",
       "    <tr>\n",
       "      <th>2216</th>\n",
       "      <td>San Marino</td>\n",
       "      <td>71.0</td>\n",
       "    </tr>\n",
       "    <tr>\n",
       "      <th>1554</th>\n",
       "      <td>Madagascar</td>\n",
       "      <td>71.0</td>\n",
       "    </tr>\n",
       "  </tbody>\n",
       "</table>\n",
       "</div>"
      ],
      "text/plain": [
       "          Country  winsorized_HepatitisB\n",
       "0     Afghanistan                   71.0\n",
       "2200        Samoa                   71.0\n",
       "1618         Mali                   71.0\n",
       "2216   San Marino                   71.0\n",
       "1554   Madagascar                   71.0"
      ]
     },
     "execution_count": 121,
     "metadata": {},
     "output_type": "execute_result"
    }
   ],
   "source": [
    "y.head(5)"
   ]
  },
  {
   "cell_type": "markdown",
   "id": "1574ad61-c60b-44fb-927a-53a93a7f78a1",
   "metadata": {},
   "source": [
    "### ¿Cuales son los 5 paises que tienen el porcentaje mas bajo de vacuna para el Difteria en niños de 1 año?"
   ]
  },
  {
   "cell_type": "code",
   "execution_count": 123,
   "id": "0d63db3c-b29e-4e3f-8dd5-e43b441f9861",
   "metadata": {},
   "outputs": [],
   "source": [
    "z=peor.loc[:, ['Country','winsorized_Diphtheria']].sort_values(['winsorized_Diphtheria'])"
   ]
  },
  {
   "cell_type": "code",
   "execution_count": 124,
   "id": "f97d1358-aa4c-4bbc-80d0-4f091d53b311",
   "metadata": {},
   "outputs": [
    {
     "data": {
      "text/html": [
       "<div>\n",
       "<style scoped>\n",
       "    .dataframe tbody tr th:only-of-type {\n",
       "        vertical-align: middle;\n",
       "    }\n",
       "\n",
       "    .dataframe tbody tr th {\n",
       "        vertical-align: top;\n",
       "    }\n",
       "\n",
       "    .dataframe thead th {\n",
       "        text-align: right;\n",
       "    }\n",
       "</style>\n",
       "<table border=\"1\" class=\"dataframe\">\n",
       "  <thead>\n",
       "    <tr style=\"text-align: right;\">\n",
       "      <th></th>\n",
       "      <th>Country</th>\n",
       "      <th>winsorized_Diphtheria</th>\n",
       "    </tr>\n",
       "  </thead>\n",
       "  <tbody>\n",
       "    <tr>\n",
       "      <th>0</th>\n",
       "      <td>Afghanistan</td>\n",
       "      <td>65.0</td>\n",
       "    </tr>\n",
       "    <tr>\n",
       "      <th>2007</th>\n",
       "      <td>Peru</td>\n",
       "      <td>65.0</td>\n",
       "    </tr>\n",
       "    <tr>\n",
       "      <th>2489</th>\n",
       "      <td>Swaziland</td>\n",
       "      <td>65.0</td>\n",
       "    </tr>\n",
       "    <tr>\n",
       "      <th>2023</th>\n",
       "      <td>Philippines</td>\n",
       "      <td>65.0</td>\n",
       "    </tr>\n",
       "    <tr>\n",
       "      <th>946</th>\n",
       "      <td>Gabon</td>\n",
       "      <td>65.0</td>\n",
       "    </tr>\n",
       "  </tbody>\n",
       "</table>\n",
       "</div>"
      ],
      "text/plain": [
       "          Country  winsorized_Diphtheria\n",
       "0     Afghanistan                   65.0\n",
       "2007         Peru                   65.0\n",
       "2489    Swaziland                   65.0\n",
       "2023  Philippines                   65.0\n",
       "946         Gabon                   65.0"
      ]
     },
     "execution_count": 124,
     "metadata": {},
     "output_type": "execute_result"
    }
   ],
   "source": [
    "z.head(5)"
   ]
  },
  {
   "cell_type": "markdown",
   "id": "d6f4db8d-d1ec-4d91-81f5-b4fb48e8b6dc",
   "metadata": {},
   "source": [
    "# PCA"
   ]
  },
  {
   "cell_type": "markdown",
   "id": "c6031e7d-8e43-46a2-ab29-be527b2cf22c",
   "metadata": {},
   "source": [
    "### PCA es un método de análisis de datos que se utiliza para reducir la dimensionalidad de un conjunto de datos. PCA se basa en la idea de que los datos pueden ser representados de manera más compacta en un espacio de menor dimensionalidad sin perder demasiada información. Esto se logra encontrando una combinación lineal de las variables originales que capture la mayor parte de la variabilidad en los datos. Estas nuevas variables se conocen como componentes principales."
   ]
  },
  {
   "cell_type": "code",
   "execution_count": null,
   "id": "af35ac13-a400-4f51-91db-47054fd82782",
   "metadata": {},
   "outputs": [],
   "source": []
  },
  {
   "cell_type": "code",
   "execution_count": 125,
   "id": "578a70c6-3149-4f0a-800a-a51774500414",
   "metadata": {},
   "outputs": [],
   "source": [
    "anali_pca = df_sin_atipicos"
   ]
  },
  {
   "cell_type": "markdown",
   "id": "6902d926-3bb8-424e-bb22-f14a29f79951",
   "metadata": {},
   "source": [
    "## Verificamos si existe multicolinealiadad entre algunas columnas"
   ]
  },
  {
   "cell_type": "code",
   "execution_count": 127,
   "id": "b19ce943-b658-4dfb-b1e1-e18ce313c9c1",
   "metadata": {},
   "outputs": [],
   "source": [
    "def print_scatter(anali_pca, x_label, y_label):\n",
    "    N = 2938\n",
    "    x = anali_pca[x_label]\n",
    "    y = anali_pca[y_label]\n",
    "    colors = np.random.rand(N)\n",
    "\n",
    "    plt.scatter(x, y, c=colors, alpha=0.9)\n",
    "    plt.show()"
   ]
  },
  {
   "cell_type": "code",
   "execution_count": 128,
   "id": "f7fca2c6-449a-4b4f-b0a8-34b3b92c1e47",
   "metadata": {},
   "outputs": [
    {
     "data": {
      "image/png": "[encoded data removed]",
      "text/plain": [
       "<Figure size 432x288 with 1 Axes>"
      ]
     },
     "metadata": {
      "needs_background": "light"
     },
     "output_type": "display_data"
    }
   ],
   "source": [
    "print_scatter(anali_pca, \"winsorized_thinness_1to19_years\",\"winsorized_thinness_5to9_years\")"
   ]
  },
  {
   "cell_type": "code",
   "execution_count": 129,
   "id": "0900a7d8-a705-4ad1-8864-c3c9c7334e3d",
   "metadata": {},
   "outputs": [
    {
     "data": {
      "image/png": "[encoded data removed]",
      "text/plain": [
       "<Figure size 432x288 with 1 Axes>"
      ]
     },
     "metadata": {
      "needs_background": "light"
     },
     "output_type": "display_data"
    }
   ],
   "source": [
    "print_scatter(anali_pca, \"winsorized_Under_Five_Deaths\",\"winsorized_Infant_Deaths\")"
   ]
  },
  {
   "cell_type": "markdown",
   "id": "7ad31e19-ba72-4ed4-b330-dfeeee57f72d",
   "metadata": {},
   "source": [
    "### Vemos que entre estas columnas hay una multicolinealidad alta entre ellas por lo tanto excluimos una de del analisis PCA"
   ]
  },
  {
   "cell_type": "code",
   "execution_count": null,
   "id": "24acd74f-1f1c-43f4-bd0f-50fba841bdcf",
   "metadata": {},
   "outputs": [],
   "source": []
  },
  {
   "cell_type": "markdown",
   "id": "ba2ecaf0-706e-4ea1-a4af-a27d184353e8",
   "metadata": {},
   "source": [
    "### Usamos solo las columnas numericas continuas"
   ]
  },
  {
   "cell_type": "code",
   "execution_count": 131,
   "id": "35b229e2-9dae-40ae-ae89-43974ab4e290",
   "metadata": {},
   "outputs": [],
   "source": [
    "columnas_a_usar1 = [ 'winsorized_Life_Expectancy', 'winsorized_Adult_Mortality',\n",
    "       'winsorized_Infant_Deaths', 'winsorized_Alcohol','winsorized_Measles',\n",
    "        'winsorized_HepatitisB', 'winsorized_Polio',\n",
    "       'winsorized_Tot_Exp', 'winsorized_HIV',\n",
    "       'winsorized_GDP', 'winsorized_Population',\n",
    "       'winsorized_thinness_1to19_years','winsorized_Schooling']"
   ]
  },
  {
   "cell_type": "code",
   "execution_count": 132,
   "id": "479618cb-42a4-4b64-b34d-371ffc6ad2b6",
   "metadata": {},
   "outputs": [],
   "source": [
    "df_pca  = anali_pca.loc[ : , columnas_a_usar1 ].values"
   ]
  },
  {
   "cell_type": "markdown",
   "id": "83b6eec2-d5eb-4ddb-8ff6-a51900783d2a",
   "metadata": {},
   "source": [
    "## Estandarizamos los valores"
   ]
  },
  {
   "cell_type": "markdown",
   "id": "0c872ce0-e90d-4acd-878a-c0a81c231eff",
   "metadata": {},
   "source": [
    "### Estandarizar los valores es importante en PCA porque el método utiliza la varianza de las variables para calcular los componentes principales. Si las variables tienen diferentes escalas, entonces la variabilidad de algunas variables puede ser subestimada o sobrestimada en comparación con otras. Al estandarizar los valores, se evita este problema y se garantiza que todas las variables tengan la misma importancia en el análisis."
   ]
  },
  {
   "cell_type": "code",
   "execution_count": 133,
   "id": "90a880ec-3eef-4e29-8c77-6b2ccb0320cb",
   "metadata": {},
   "outputs": [
    {
     "data": {
      "text/plain": [
       "array([[-0.44938287,  0.87880998,  1.92022742, ...,  1.59157979,\n",
       "         2.43500142, -0.6432874 ],\n",
       "       [-0.98842215,  0.94829529,  1.92022742, ..., -0.89311199,\n",
       "         2.43500142, -0.67596846],\n",
       "       [-0.98842215,  0.9222383 ,  1.92022742, ...,  1.59157979,\n",
       "         2.43500142, -0.70864952],\n",
       "       ...,\n",
       "       [-2.49984601, -0.77146606,  0.83427931, ..., -0.98952986,\n",
       "        -0.90846399, -0.67596846],\n",
       "       [-2.49984601,  2.52040036,  0.83427931, ...,  1.59157979,\n",
       "        -0.80232223, -0.74133057],\n",
       "       [-2.45756842,  2.52040036,  0.77040001, ...,  1.59157979,\n",
       "         1.69200911, -0.74133057]])"
      ]
     },
     "execution_count": 133,
     "metadata": {},
     "output_type": "execute_result"
    }
   ],
   "source": [
    "StandardScaler().fit_transform(df_pca)"
   ]
  },
  {
   "cell_type": "markdown",
   "id": "6e7c87ad-839f-4839-b0f4-5f9a4eb23555",
   "metadata": {},
   "source": [
    "# Aplicamos el algoritmo de reduccion PCA a dos dimensiones"
   ]
  },
  {
   "cell_type": "markdown",
   "id": "e65c6e48-1fab-482f-93bc-a365c3380d48",
   "metadata": {
    "tags": []
   },
   "source": [
    "### Algunas ventajas de usuar algoritmos de reduccion a dos dimensiones:\n",
    "### Visualización: Una de las principales razones de aplicar PCA es poder visualizar los datos en un plano bidimensional. Esto puede ser útil para entender mejor los patrones y relaciones entre las variables y para detectar clusters o grupos en los datos.\n",
    "\n",
    "### Eficiencia: Reducir los datos a dos dimensiones puede mejorar la eficiencia de los algoritmos de aprendizaje automático que se utilizan para analizar los datos. Esto se debe a que los algoritmos suelen funcionar mejor cuando tienen menos variables que procesar.\n",
    "\n",
    "### Simplicidad: Reducir los datos a dos dimensiones también puede hacer que sea más fácil entender y explicar los resultados del análisis. Al tener menos variables, es más fácil ver las relaciones entre ellas y hacer predicciones sobre el comportamiento de los datos."
   ]
  },
  {
   "cell_type": "code",
   "execution_count": 135,
   "id": "f2bdaacf-9ef3-4a55-84a6-5f88eb71c122",
   "metadata": {},
   "outputs": [],
   "source": [
    "pca = PCA(n_components=2)"
   ]
  },
  {
   "cell_type": "markdown",
   "id": "6784404f-8dd3-426c-9df0-1d472668167d",
   "metadata": {},
   "source": [
    "### Hacemos una tranformacion a los dos componentes principales"
   ]
  },
  {
   "cell_type": "code",
   "execution_count": 137,
   "id": "2f3bdf5b-e905-471a-8381-505b6e1d7490",
   "metadata": {},
   "outputs": [],
   "source": [
    "componentesPrincipales = pca.fit_transform(df_pca)"
   ]
  },
  {
   "cell_type": "code",
   "execution_count": 138,
   "id": "4c64d3f1-8ade-4715-9724-c6a6e5caee57",
   "metadata": {},
   "outputs": [
    {
     "data": {
      "text/plain": [
       "array([[ 3.33537609e+06, -1.83351904e+03],\n",
       "       [-1.87163991e+06, -1.94887417e+03],\n",
       "       [ 3.33537609e+06, -1.78615177e+03],\n",
       "       ...,\n",
       "       [-2.07369689e+06, -2.50591856e+03],\n",
       "       [ 3.33537609e+06, -1.87265633e+03],\n",
       "       [ 3.33537609e+06, -1.87387942e+03]])"
      ]
     },
     "execution_count": 138,
     "metadata": {},
     "output_type": "execute_result"
    }
   ],
   "source": [
    "componentesPrincipales"
   ]
  },
  {
   "cell_type": "code",
   "execution_count": 139,
   "id": "0b55b707-2fc6-4aa2-8e66-59578e83ca75",
   "metadata": {},
   "outputs": [
    {
     "name": "stdout",
     "output_type": "stream",
     "text": [
      "(2938, 13)\n",
      "(2938, 2)\n"
     ]
    }
   ],
   "source": [
    "print(df_pca.shape)\n",
    "print(componentesPrincipales.shape)"
   ]
  },
  {
   "cell_type": "code",
   "execution_count": 140,
   "id": "12ea55cf-8a20-4578-a9ab-f2a6ecf5697d",
   "metadata": {},
   "outputs": [],
   "source": [
    "pca_df = pd.DataFrame(data=componentesPrincipales , columns=['c1','c2'])"
   ]
  },
  {
   "cell_type": "code",
   "execution_count": 141,
   "id": "cc3c1380-00e6-4691-b06b-1827d3b020c8",
   "metadata": {},
   "outputs": [
    {
     "data": {
      "image/png": "[encoded data removed]",
      "text/plain": [
       "<Figure size 432x288 with 1 Axes>"
      ]
     },
     "metadata": {
      "needs_background": "light"
     },
     "output_type": "display_data"
    }
   ],
   "source": [
    "print_scatter(pca_df, 'c1', 'c2')"
   ]
  },
  {
   "cell_type": "code",
   "execution_count": null,
   "id": "5c36175c-d1ec-4865-8e32-54c08157ee1e",
   "metadata": {},
   "outputs": [],
   "source": []
  },
  {
   "cell_type": "code",
   "execution_count": null,
   "id": "b9abb3a1-38dd-4673-9a9f-84c368b5d897",
   "metadata": {},
   "outputs": [],
   "source": []
  },
  {
   "cell_type": "code",
   "execution_count": null,
   "id": "6a4da764-c6be-4c18-9b92-3b1bc1e83254",
   "metadata": {},
   "outputs": [],
   "source": []
  },
  {
   "cell_type": "code",
   "execution_count": null,
   "id": "102cd79e-e720-43a8-8703-0beabbf70594",
   "metadata": {},
   "outputs": [],
   "source": []
  },
  {
   "cell_type": "code",
   "execution_count": null,
   "id": "8a4f24d6-1786-4e7a-8d3b-64ad907048dd",
   "metadata": {},
   "outputs": [],
   "source": []
  }
 ],
 "metadata": {
  "kernelspec": {
   "display_name": "Python 3 (ipykernel)",
   "language": "python",
   "name": "python3"
  },
  "language_info": {
   "codemirror_mode": {
    "name": "ipython",
    "version": 3
   },
   "file_extension": ".py",
   "mimetype": "text/x-python",
   "name": "python",
   "nbconvert_exporter": "python",
   "pygments_lexer": "ipython3",
   "version": "3.9.7"
  }
 },
 "nbformat": 4,
 "nbformat_minor": 5
}
